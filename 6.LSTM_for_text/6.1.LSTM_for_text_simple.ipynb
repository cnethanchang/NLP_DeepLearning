{
 "cells": [
  {
   "cell_type": "code",
   "execution_count": 2,
   "metadata": {
    "collapsed": true
   },
   "outputs": [],
   "source": [
    "#本案例中利用前三个char测最后一个char\n",
    "# LSTM讲解  https://zhuanlan.zhihu.com/p/32085405\n",
    "# b =10   m=max_len=n_step=3     v=n_class=26    h=n_hidden=128\n",
    "\n",
    "# input = (b,m)  ========>( np.eye(v)[input]) 操作  ) =====>(b,m,v)\n",
    "# X.transpose(0, 1)         X :(b,m,v)===>(m,b,v)\n",
    "\n",
    "\n",
    "\n",
    "#      X :(m,b,v)\n",
    "#hidden_state =  [num_layers(=1) * num_directions(=1), b, h]=(1,b,h)\n",
    "# cell_state =   [num_layers(=1) * num_directions(=1), b, h]=(1,b,h)\n",
    "\n",
    "\n",
    "# self.lstm = nn.LSTM(input_size=v, hidden_size=h)   #(v,h)   \n",
    "#LSTM 操作：    outputs, (_, _) = self.lstm(input, (hidden_state, cell_state))\n",
    "                                #self.lstm(   (m,b,v) , ( (1,b,h),(1,b,h)  )  \n",
    "\n",
    " # 得到的outputs : [m, b, num_directions(=1) * h] = (m,b,h)=[3, 10, 128]\n",
    "\n",
    "\n",
    "# 然后用outpu中的最后一层：outputs = outputs[-1]              # [b, num_directions(=1) * h]=(b,h)\n",
    "    \n",
    " # (b, num_directions(=1) * h )  *    (num_directions(=1) * h ,v)= (b,h) * (h,v) = (b,v)\n",
    "#(b,v)与实际的y做softmax得到loss "
   ]
  },
  {
   "cell_type": "code",
   "execution_count": 3,
   "metadata": {},
   "outputs": [
    {
     "name": "stdout",
     "output_type": "stream",
     "text": [
      " char_arr= ['a', 'b', 'c', 'd', 'e', 'f', 'g', 'h', 'i', 'j', 'k', 'l', 'm', 'n', 'o', 'p', 'q', 'r', 's', 't', 'u', 'v', 'w', 'x', 'y', 'z']\n word_dict= {'a': 0, 'b': 1, 'c': 2, 'd': 3, 'e': 4, 'f': 5, 'g': 6, 'h': 7, 'i': 8, 'j': 9, 'k': 10, 'l': 11, 'm': 12, 'n': 13, 'o': 14, 'p': 15, 'q': 16, 'r': 17, 's': 18, 't': 19, 'u': 20, 'v': 21, 'w': 22, 'x': 23, 'y': 24, 'z': 25}\n number_dict= {0: 'a', 1: 'b', 2: 'c', 3: 'd', 4: 'e', 5: 'f', 6: 'g', 7: 'h', 8: 'i', 9: 'j', 10: 'k', 11: 'l', 12: 'm', 13: 'n', 14: 'o', 15: 'p', 16: 'q', 17: 'r', 18: 's', 19: 't', 20: 'u', 21: 'v', 22: 'w', 23: 'x', 24: 'y', 25: 'z'}\nn_class =  26\n"
     ]
    }
   ],
   "source": [
    "\n",
    "import numpy as np\n",
    "import torch\n",
    "import torch.nn as nn\n",
    "import torch.optim as optim\n",
    "from torch.autograd import Variable\n",
    "\n",
    "dtype = torch.FloatTensor\n",
    "\n",
    "char_arr = [c for c in 'abcdefghijklmnopqrstuvwxyz']\n",
    "word_dict = {n: i for i, n in enumerate(char_arr)}\n",
    "number_dict = {i: w for i, w in enumerate(char_arr)}\n",
    "n_class = len(word_dict) # number of class(=number of vocab)\n",
    "\n",
    "seq_data = ['make', 'need', 'coal', 'word', 'love', 'hate', 'live', 'home', 'hash', 'star']\n",
    "\n",
    "print(' char_arr=',char_arr)\n",
    "print(' word_dict=',word_dict)\n",
    "print(' number_dict=',number_dict)\n",
    "print(\"n_class = \" ,n_class)"
   ]
  },
  {
   "cell_type": "code",
   "execution_count": 4,
   "metadata": {},
   "outputs": [],
   "source": [
    "# TextLSTM Parameters\n",
    "n_step = 3\n",
    "n_hidden = 128\n",
    "\n",
    "def make_batch(seq_data):\n",
    "    input_batch, target_batch = [], []\n",
    "\n",
    "    for seq in seq_data:\n",
    "        input = [word_dict[n] for n in seq[:-1]] # 'm', 'a' , 'k' is input\n",
    "        target = word_dict[seq[-1]] # 'e' is target\n",
    "        input_batch.append(np.eye(n_class)[input])\n",
    "        target_batch.append(target)\n",
    "\n",
    "    return Variable(torch.Tensor(input_batch)), Variable(torch.LongTensor(target_batch))\n",
    "\n"
   ]
  },
  {
   "cell_type": "code",
   "execution_count": 5,
   "metadata": {},
   "outputs": [
    {
     "name": "stdout",
     "output_type": "stream",
     "text": [
      "TextLSTM(\n  (lstm): LSTM(26, 128)\n)\n"
     ]
    },
    {
     "name": "stdout",
     "output_type": "stream",
     "text": [
      "Epoch: 1000 cost = 0.000120\n"
     ]
    },
    {
     "name": "stdout",
     "output_type": "stream",
     "text": [
      "Epoch: 2000 cost = 0.000029\n"
     ]
    },
    {
     "name": "stdout",
     "output_type": "stream",
     "text": [
      "Epoch: 3000 cost = 0.000012\n"
     ]
    },
    {
     "name": "stdout",
     "output_type": "stream",
     "text": [
      "Epoch: 4000 cost = 0.000006\n"
     ]
    },
    {
     "name": "stdout",
     "output_type": "stream",
     "text": [
      "Epoch: 5000 cost = 0.000003\n"
     ]
    }
   ],
   "source": [
    "class TextLSTM(nn.Module):\n",
    "    def __init__(self):\n",
    "        super(TextLSTM, self).__init__()\n",
    "        #如果bi_lstm下面的参数改为 nn.LSTM(input_size=n_class, hidden_size=n_hidden, bidirectional=True)\n",
    "        #如果bi_lstm             self.W = nn.Parameter(torch.randn([n_hidden * 2, n_class]).type(dtype))\n",
    "        self.lstm = nn.LSTM(input_size=n_class, hidden_size=n_hidden)   #(v,h)\n",
    "        self.W = nn.Parameter(torch.randn([n_hidden, n_class]).type(dtype))  #(h,v)\n",
    "        self.b = nn.Parameter(torch.randn([n_class]).type(dtype))\n",
    "\n",
    "    def forward(self, X):\n",
    "        input = X.transpose(0, 1)  # X : [m, b, v]\n",
    "\n",
    "        hidden_state = Variable(torch.zeros(1, len(X), n_hidden))   # [num_layers(=1) * num_directions(=1), b, h]=(1,b,h)\n",
    "        cell_state = Variable(torch.zeros(1, len(X), n_hidden))     # [num_layers(=1) * num_directions(=1), b, h]=(1,b,h)\n",
    "\n",
    "        outputs, (_, _) = self.lstm(input, (hidden_state, cell_state))  #    self.lstm(   (m,b,v) , ( (1,b,h),(1,b,h)  )  \n",
    "        # print(\"#\",outputs.size())      #(m,b,h)=[3, 10, 128]\n",
    "        outputs = outputs[-1]  # [b,h]\n",
    "        model = torch.mm(outputs, self.W) + self.b  # model : [b,v] =  (h,v) *(h,b)\n",
    "        return model\n",
    "\n",
    "input_batch, target_batch = make_batch(seq_data)\n",
    "# print(input_batch.size(),target_batch.size())\n",
    "#input_batch : [b,m, v]          # target_batch :[b]\n",
    "model = TextLSTM()\n",
    "print(model)\n",
    "'''\n",
    "TextLSTM(\n",
    "  (lstm): LSTM(26, 128)\n",
    ")\n",
    "'''\n",
    "criterion = nn.CrossEntropyLoss()\n",
    "optimizer = optim.Adam(model.parameters(), lr=0.001)\n",
    "\n",
    "output = model(input_batch)\n",
    "\n",
    "# Training\n",
    "for epoch in range(5000):\n",
    "    optimizer.zero_grad()\n",
    "\n",
    "    output = model(input_batch)   #(b,v)\n",
    "    loss = criterion(output, target_batch)\n",
    "    if (epoch + 1) % 1000 == 0:\n",
    "        print('Epoch:', '%04d' % (epoch + 1), 'cost =', '{:.6f}'.format(loss))\n",
    "\n",
    "    loss.backward()\n",
    "    optimizer.step()"
   ]
  },
  {
   "cell_type": "code",
   "execution_count": 6,
   "metadata": {},
   "outputs": [
    {
     "name": "stdout",
     "output_type": "stream",
     "text": [
      "['mak', 'nee', 'coa', 'wor', 'lov', 'hat', 'liv', 'hom', 'has', 'sta'] -> ['e', 'd', 'l', 'd', 'e', 'e', 'e', 'e', 'h', 'r']\n"
     ]
    }
   ],
   "source": [
    "inputs = [sen[:3] for sen in seq_data]\n",
    "\n",
    "predict = model(input_batch).data.max(1, keepdim=True)[1]\n",
    "print(inputs, '->', [number_dict[n.item()] for n in predict.squeeze()])"
   ]
  },
  {
   "cell_type": "code",
   "execution_count": null,
   "metadata": {},
   "outputs": [],
   "source": []
  }
 ],
 "metadata": {
  "kernelspec": {
   "display_name": "Python 2",
   "language": "python",
   "name": "python2"
  },
  "language_info": {
   "codemirror_mode": {
    "name": "ipython",
    "version": 2
   },
   "file_extension": ".py",
   "mimetype": "text/x-python",
   "name": "python",
   "nbconvert_exporter": "python",
   "pygments_lexer": "ipython2",
   "version": "2.7.6"
  }
 },
 "nbformat": 4,
 "nbformat_minor": 0
}
