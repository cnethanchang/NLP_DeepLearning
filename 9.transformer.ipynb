{
 "cells": [
  {
   "cell_type": "code",
   "execution_count": 1,
   "metadata": {
    "collapsed": true
   },
   "outputs": [],
   "source": [
    "#referencing paper \"Attention is all you need\""
   ]
  },
  {
   "cell_type": "code",
   "execution_count": 1,
   "metadata": {},
   "outputs": [],
   "source": [
    "import numpy as np\n",
    "import torch\n",
    "import torch.nn as nn\n",
    "import torch.optim as optim\n",
    "from torch.autograd import Variable\n",
    "import matplotlib.pyplot as plt\n",
    "\n",
    "dtype = torch.FloatTensor\n"
   ]
  },
  {
   "cell_type": "code",
   "execution_count": 2,
   "metadata": {},
   "outputs": [
    {
     "name": "stdout",
     "output_type": "stream",
     "text": [
      "torch.Size([1, 5]) torch.Size([1, 5]) torch.Size([1, 5])\n"
     ]
    }
   ],
   "source": [
    "# S: Symbol that shows starting of decoding input\n",
    "# E: Symbol that shows starting of decoding output\n",
    "# P: Symbol that will fill in blank sequence if current batch data size is short than time \n",
    "\n",
    "sentences = ['ich mochte ein bier P', 'S i want a beer', 'i want a beer E']\n",
    "\n",
    "# Transformer Parameters\n",
    "# Padding Should be Zero\n",
    "\n",
    "src_vocab = {'P' : 0, 'ich' : 1, 'mochte' : 2, 'ein' : 3, 'bier' : 4}\n",
    "src_vocab_size = len(src_vocab)       #src_vocab_size=v_x=5\n",
    "\n",
    "tgt_vocab = {'P' : 0, 'i' : 1, 'want' : 2, 'a' : 3, 'beer' : 4, 'S' : 5, 'E' : 6}\n",
    "number_dict = {i: w for i, w in enumerate(tgt_vocab)}\n",
    "tgt_vocab_size = len(tgt_vocab)       #tgt_vocab_size=v_y=7\n",
    "\n",
    "src_len = 5      #m_x\n",
    "tgt_len = 5      #m_y\n",
    "\n",
    "d_model = 512  # Embedding Size=d\n",
    "d_ff = 2048    # dimension  of feedforward      等于Conv1d操作中的output_channel，等于Conv1d操作中的number_of_filter\n",
    "d_k = d_v = 64  # dimension of K(=Q), V    =d_model/n_head=512/8=64\n",
    "n_layers = 6  # number of Encoder of Decoder Layer\n",
    "n_heads = 8  # number of heads in Multi-Head Attention\n",
    "\n",
    "\n",
    "def make_batch(sentences):\n",
    "    input_batch = [[src_vocab[n] for n in sentences[0].split()]]\n",
    "    output_batch = [[tgt_vocab[n] for n in sentences[1].split()]]\n",
    "    target_batch = [[tgt_vocab[n] for n in sentences[2].split()]]\n",
    "    return Variable(torch.LongTensor(input_batch)), Variable(torch.LongTensor(output_batch)), Variable(torch.LongTensor(target_batch))\n",
    "\n",
    "enc_inputs, dec_inputs, target_batch = make_batch(sentences)\n",
    "# enc_inputs: 'ich mochte ein bier P'======>[1,2,3,4,0]\n",
    "# dec_inputs:  'S i want a beer'===========>[5,1,2,3,4]\n",
    "# target_batch:'i want a beer E'===========>[1,2,3,4,6]\n",
    "print(enc_inputs.size(),dec_inputs.size(),target_batch.size())\n",
    "\n"
   ]
  },
  {
   "cell_type": "code",
   "execution_count": 3,
   "metadata": {},
   "outputs": [],
   "source": [
    "#get_sinusoid_encoding_table()  返回(m_x+1,d)的矩阵\n",
    "def get_sinusoid_encoding_table(n_position, d_model):      #(m_x+1,d)           得到正弦曲线 编码  表              positional encoding\n",
    "    def cal_angle(position, hid_idx):\n",
    "        return position / np.power(10000, 2 * (hid_idx // 2) / d_model)\n",
    "    def get_posi_angle_vec(position):\n",
    "        return [cal_angle(position, hid_j) for hid_j in range(d_model)]\n",
    "\n",
    "    sinusoid_table = np.array([get_posi_angle_vec(pos_i) for pos_i in range(n_position)])\n",
    "    # print(sinusoid_table.shape)    #(m_x,d) = (6,512)\n",
    "    sinusoid_table[:, 0::2] = np.sin(sinusoid_table[:, 0::2])    # 当hid_idx为偶数时： =sin（x）\n",
    "    sinusoid_table[:, 1::2] = np.cos(sinusoid_table[:, 1::2])    # 当hid_idx为奇数时：  =cos（x）\n",
    "    return torch.FloatTensor(sinusoid_table)\n",
    "\n",
    "    # sinusoid_table = np.array([get_posi_angle_vec(pos_i) for pos_i in r\n",
    "\n",
    "\n",
    "def get_attn_pad_mask(seq_q, seq_k):         #(b,m_x) ,(b,m_x)\n",
    "    batch_size, len_q = seq_q.size()\n",
    "    batch_size, len_k = seq_k.size()\n",
    "    # eq(zero) is PAD token\n",
    "    pad_attn_mask = seq_k.data.eq(0).unsqueeze(1)       #(b,m_x)===>(b,1,m_x)    one is masking\n",
    "    return pad_attn_mask.expand(batch_size, len_q, len_k)  # (b,m_q,m_k)=(b,m_x,m_x)     batch_size x len_q x len_k\n",
    "\n",
    "\n",
    "def get_attn_subsequent_mask(seq):                 # (b,m_y) \n",
    "    attn_shape = [seq.size(0), seq.size(1), seq.size(1)]   #(b,m_y,m_y)\n",
    "    subsequent_mask = np.triu(np.ones(attn_shape), k=1)\n",
    "    subsequent_mask = torch.from_numpy(subsequent_mask).byte()\n",
    "    return subsequent_mask       #(b,m_y,m_y)"
   ]
  },
  {
   "cell_type": "code",
   "execution_count": 4,
   "metadata": {},
   "outputs": [],
   "source": [
    "class ScaledDotProductAttention(nn.Module):\n",
    "    def __init__(self):\n",
    "        super(ScaledDotProductAttention, self).__init__()\n",
    "\n",
    "    def forward(self, Q, K, V, attn_mask):       #forward(  (b,8,m_q,d_k), (b,8,m_,d_k), (b,8,m_,d_k), (b,8,m_q,m_k)   ) \n",
    "        scores = torch.matmul(Q, K.transpose(-1, -2)) / np.sqrt(d_k) # scores : (b,8,m_q,m_q)\n",
    "        scores.masked_fill_(attn_mask, -1e9) # Fills elements of self tensor with value where mask is one.\n",
    "        attn = nn.Softmax(dim=-1)(scores)     #(b,8,m_q,m_q)\n",
    "        context = torch.matmul(attn, V)       #(b,8,m_q,m_k)*(b,8,m_v,d_v)=(b,8,m_q,d_v)\n",
    "        return context, attn         #(b,8,m_q,d_v)   (b,8,m_q,m_q)          \n",
    "    \n",
    "    \n",
    "    \n",
    "\n",
    "class MultiHeadAttention(nn.Module):\n",
    "    def __init__(self):\n",
    "        super(MultiHeadAttention, self).__init__()\n",
    "        self.W_Q = nn.Linear(d_model, d_k * n_heads) #(d,8*d_k)\n",
    "        self.W_K = nn.Linear(d_model, d_k * n_heads)\n",
    "        self.W_V = nn.Linear(d_model, d_v * n_heads)\n",
    "    def forward(self, Q, K, V, attn_mask):          #forward(  (b,m_q,d),(b,m_k,d),(b,m_k,d),   (b,m_q,m_k) )       \n",
    "        residual, batch_size = Q, Q.size(0)      #residual:(b,m_q,d)  是进行multi_head_attettion操作之前copy的数据，等于enc_outputs\n",
    "        #(8d_q,d) * (b,m_q,d)=(8*d_q,b,m_q)====>(b,m_q,8,d_k)=====>(b,8,m_q,d_q)\n",
    "        q_s = self.W_Q(Q).view(batch_size, -1, n_heads, d_k).transpose(1,2)  # q_s: (b,8,m_q,d_q)\n",
    "        k_s = self.W_K(K).view(batch_size, -1, n_heads, d_k).transpose(1,2)  # k_s:(b,8,m_k,d_k)\n",
    "        v_s = self.W_V(V).view(batch_size, -1, n_heads, d_v).transpose(1,2)  # v_s: (b,8,m_k,d_k)\n",
    "       \n",
    "        attn_mask = attn_mask.unsqueeze(1).repeat(1, n_heads, 1, 1)                # attn_mask :  (b,m_q,m_k) ===>(b,1,m_q,m_k)==>(b,8,m_q,m_k)\n",
    "        context, attn = ScaledDotProductAttention()(q_s, k_s, v_s, attn_mask)      # context:(b,8,m_q,d_v)         attn: (b,8,m_x,m_x) \n",
    "        context = context.transpose(1, 2).contiguous().view(batch_size, -1, n_heads * d_v)  #context:(b,8,m_q,d_v) ==>(b,m_q,8,d_v)====>(b,m_q,8*d_v)\n",
    "        output = nn.Linear(n_heads * d_v, d_model)(context)                        #ouput:(8*d_v,d)*(b,m_q,8*d_k)=(b,m_q,d)\n",
    "        return nn.LayerNorm(d_model)(output + residual), attn                      #  return:(b,m_q,d), (b,8,m_x,m_x) \n",
    "\n",
    "\n",
    "\n",
    "class PoswiseFeedForwardNet(nn.Module):\n",
    "    def __init__(self):\n",
    "        super(PoswiseFeedForwardNet, self).__init__()\n",
    "        self.conv1 = nn.Conv1d(in_channels=d_model, out_channels=d_ff, kernel_size=1)\n",
    "        self.conv2 = nn.Conv1d(in_channels=d_ff, out_channels=d_model, kernel_size=1)\n",
    "\n",
    "    def forward(self, inputs):       # (b,m_x,d)         #(b,d，m_x) 运行conv1操作（把d当做input_channel）,得到(b,output_channle,m_x)\n",
    "        residual = inputs    #residual: (b,m_x,d) \n",
    "        inputs=inputs.transpose(1,2)  # (b,m_x,d)========>#(b,input_channel(=d),m_x)  \n",
    "        inputs=self.conv1(inputs)    #(b,input_channel(=d),m_x)----->在input_channel方向做卷积操作------>(b,output_channle(=d_ff),m_x)=(1,2028，5)\n",
    "        output = nn.ReLU()(inputs)  \n",
    "        \n",
    "        #(b,input_channel(=d_ff),m_x)-->在input_channel方向做卷积操作-->(b,output_channle(=d_model),m_x)--->(b,m_x,d)=(1,5,512)\n",
    "        output = self.conv2(output).transpose(1, 2) \n",
    "        \n",
    "        return nn.LayerNorm(d_model)(output + residual)  #return (b,m_x,d)\n",
    "\n",
    "\n",
    "class EncoderLayer(nn.Module):\n",
    "    def __init__(self):\n",
    "        super(EncoderLayer, self).__init__()\n",
    "        self.enc_self_attn = MultiHeadAttention()\n",
    "        self.pos_ffn = PoswiseFeedForwardNet()             #position_feed_forward_network\n",
    "\n",
    "    def forward(self, enc_inputs, enc_self_attn_mask):       #forward(  (b,m_x,d),(b,m_q,m_k) )\n",
    "                          # self.enc_self_attn(  (b,m_x,d),(b,m_x,d),(b,m_x,d),   (b,m_q,m_k) )         \n",
    "        enc_outputs, attn = self.enc_self_attn(enc_inputs, enc_inputs, enc_inputs, enc_self_attn_mask) # enc_outputs:(b,m_x,d)  attn:(b,8,m_x,m_x)\n",
    "        enc_outputs = self.pos_ffn(enc_outputs) # self.pos_ffn( (b,m_x,d) )======>(b,m_x,d)\n",
    "        return enc_outputs, attn         #(b,m_x,d)   (b,8,m_x,m_x)\n",
    "\n",
    "\n",
    "\n",
    "\n",
    "class DecoderLayer(nn.Module):\n",
    "    def __init__(self):\n",
    "        super(DecoderLayer, self).__init__()\n",
    "        self.dec_self_attn = MultiHeadAttention()\n",
    "        self.dec_enc_attn = MultiHeadAttention()\n",
    "        self.pos_ffn = PoswiseFeedForwardNet()         # position_feed_forward_network\n",
    "\n",
    "    def forward(self, dec_inputs, enc_outputs, dec_self_attn_mask, dec_enc_attn_mask): #forward(  (b,m_y,d),(b,m_x,d), (b,m_y,m_y),(b,m_x,m_y)    )\n",
    "                                   # self.enc_self_attn(  (b,m_y,d),(b,m_y,d),(b,m_y,d),   (b,m_y,m_y) ) \n",
    "        dec_outputs, dec_self_attn = self.dec_self_attn(dec_inputs, dec_inputs, dec_inputs, dec_self_attn_mask)#dec_outputs:(b,m_y,d) attn:(b,8,m_y,m_y) \n",
    "        #dec_outputs作为q，enc_outpus作为k和v    #self.enc_self_attn(  (b,m_y,d),(b,m_x,d),(b,m_x,d),   (b,m_y,m_y) ) = self.dec_enc_atten( Q, K, V,attn_mask) \n",
    "        dec_outputs, dec_enc_attn = self.dec_enc_attn(dec_outputs, enc_outputs, enc_outputs, dec_enc_attn_mask)#dec_outputs:(b,m_y,d) attn:(b,8,m_y,m_y) \n",
    "        dec_outputs = self.pos_ffn(dec_outputs)     # self.pos_ffn( (b,m_y,d) )======>(b,m_y,d)                            \n",
    "        return dec_outputs, dec_self_attn, dec_enc_attn        # (b,m_y,d)   (b,8,m_y,m_y)     (b,8,m_x,m_y)\n",
    " \n",
    "\n",
    "\n",
    "class Encoder(nn.Module):\n",
    "    def __init__(self):\n",
    "        super(Encoder, self).__init__()\n",
    "        self.src_emb = nn.Embedding(src_vocab_size, d_model)   #(v_x,d)\n",
    "        self.pos_emb = nn.Embedding.from_pretrained(get_sinusoid_encoding_table(src_len+1, d_model),freeze=True)  #(m_x+1,d)\n",
    "        self.layers = nn.ModuleList([EncoderLayer() for _ in range(n_layers)])\n",
    "\n",
    "    def forward(self, enc_inputs): # enc_inputs:(b,m_x)  \n",
    "        # print(self.src_emb(enc_inputs).size())                                #(v_x,d)  *  (b,m_x) = (b,m_x,d)\n",
    "        # print(self.pos_emb(torch.LongTensor([[1,2,3,4,0]])).size())           #(m_x,d)* (b,m_x) = (b,m_x,d)\n",
    "        enc_outputs = self.src_emb(enc_inputs) + self.pos_emb(torch.LongTensor([[1,2,3,4,0]]))      #(b,m_x,d) + (b,m_x,d) =(b,m_x,d) \n",
    "        enc_self_attn_mask = get_attn_pad_mask(enc_inputs, enc_inputs)            #get_attn_pad_mask(  (b,m_x) ,(b,m_x)  )  ======>(b,m_q,m_k)\n",
    "        enc_self_attns = []\n",
    "        for layer in self.layers:     #n_layers(=6)个一样的encoder layer       每一次做一次迭代\n",
    "            # enc_outputs:(b,m_x,d)        enc_self_attn:(b,8,m_x,m_x)\n",
    "            enc_outputs, enc_self_attn = layer(enc_outputs, enc_self_attn_mask)         #layer(  (b,m_x,d),(b,m_q,m_k) )\n",
    "            enc_self_attns.append(enc_self_attn)\n",
    "        return enc_outputs, enc_self_attns      # enc_outputs:(b,m_x,d)        enc_self_attns是数组，每个元素：(b,8,m_x,m_x)\n",
    " \n",
    "\n",
    "\n",
    "\n",
    "\n",
    "class Decoder(nn.Module):\n",
    "    def __init__(self):\n",
    "        super(Decoder, self).__init__()\n",
    "        self.tgt_emb = nn.Embedding(tgt_vocab_size, d_model)   #(v_y,d)\n",
    "        self.pos_emb = nn.Embedding.from_pretrained(get_sinusoid_encoding_table(tgt_len+1, d_model),freeze=True)\n",
    "        self.layers = nn.ModuleList([DecoderLayer() for _ in range(n_layers)])\n",
    "\n",
    "    def forward(self, dec_inputs, enc_inputs, enc_outputs):          #forward( (b,m_y),(b,m_x),(b,m_x,d) )                      \n",
    "        dec_outputs = self.tgt_emb(dec_inputs) + self.pos_emb(torch.LongTensor([[5,1,2,3,4]]))        #(b,m_y,d) + (b,m_y,d) = (b,m_y,d) \n",
    "        \n",
    "        dec_self_attn_pad_mask = get_attn_pad_mask(dec_inputs, dec_inputs)    #get_attn_pad_mask(  (b,m_y) ,(b,m_y)  )  ======>(b,m_q,m_k)\n",
    "        dec_self_attn_subsequent_mask = get_attn_subsequent_mask(dec_inputs)   #get_attn_subsequent_mask( (b,m_y) )======>(b,m_y,m_y)\n",
    "        dec_self_attn_mask = torch.gt( (dec_self_attn_pad_mask + dec_self_attn_subsequent_mask), 0  )  #(b,m_y,m_y)\n",
    "        dec_enc_attn_mask = get_attn_pad_mask(dec_inputs, enc_inputs)           ##(b,m_x,m_y)  \n",
    "\n",
    "        dec_self_attns, dec_enc_attns = [], []\n",
    "        for layer in self.layers:               #n_layers(=6)个一样的decoder layer       每一次做一次迭代\n",
    "                                                      #layer(  (b,m_y,d),(b,m_x,d), (b,m_y,m_y),(b,m_x,m_y)    )\n",
    "            dec_outputs, dec_self_attn, dec_enc_attn = layer(dec_outputs, enc_outputs, dec_self_attn_mask, dec_enc_attn_mask)\n",
    "            # enc_outputs:(b,m_y,d)        dec_self_attn: (b,8,m_y,m_y)      dec_enc_attn:(b,8,m_x,m_y)\n",
    "                                                      \n",
    "            dec_self_attns.append(dec_self_attn)\n",
    "            dec_enc_attns.append(dec_enc_attn)\n",
    "        return dec_outputs, dec_self_attns, dec_enc_attns    # dec_outputs:(b,m_y,d)     dec_self_attns和dec_enc_attns是数组，每个元素：(b,8,m_y,m_y)\n",
    "\n",
    "\n",
    "\n",
    "class Transformer(nn.Module):\n",
    "    def __init__(self):\n",
    "        super(Transformer, self).__init__()\n",
    "        self.encoder = Encoder()\n",
    "        self.decoder = Decoder()\n",
    "        self.projection = nn.Linear(d_model, tgt_vocab_size, bias=False)    #(d,v_y)\n",
    "    def forward(self, enc_inputs, dec_inputs):              #forward (  (b,m_x ),(b,m_y)  )   \n",
    "         # enc_outputs:(b,m_x,d)        enc_self_attns是数组，每个元素：(b,8,m_x,m_x)\n",
    "        enc_outputs, enc_self_attns = self.encoder(enc_inputs)        #(b,m_x)\n",
    "         \n",
    "         #dec_outputs:(b,m_y,d)     dec_self_attns和dec_enc_attns是数组，每个元素：(b,8,m_y,m_y)\n",
    "        dec_outputs, dec_self_attns, dec_enc_attns = self.decoder(dec_inputs, enc_inputs, enc_outputs)   #self.decoder( (b,m_y),(b,m_x),(b,m_x,d) )\n",
    "         \n",
    "        dec_logits = self.projection(dec_outputs)     #(d,v_y)* (b,m_y,d) = (b,m_y,v_y) \n",
    "        dec_logits = dec_logits.view(-1, dec_logits.size(-1)) #(b,m_y,v_y)------->(b*m_y,v_y)\n",
    "         \n",
    "        #dec_logits：(b*m_y,v_y)      enc_self_attn和sec_self_attns和dec_enc_attns是数组，每个元素：(b,8,m,m)\n",
    "        return  dec_logits,enc_self_attns, dec_self_attns, dec_enc_attns    \n",
    "      \n",
    "\n",
    "\n",
    "def showgraph(attn):\n",
    "    attn = attn[-1].squeeze(0)[0]\n",
    "    attn = attn.squeeze(0).data.numpy()\n",
    "    fig = plt.figure(figsize=(n_heads, n_heads)) # [n_heads, n_heads]\n",
    "    ax = fig.add_subplot(1, 1, 1)\n",
    "    ax.matshow(attn, cmap='viridis')\n",
    "    ax.set_xticklabels(['']+sentences[0].split(), fontdict={'fontsize': 14}, rotation=90)\n",
    "    ax.set_yticklabels(['']+sentences[2].split(), fontdict={'fontsize': 14})\n",
    "    plt.show()\n"
   ]
  },
  {
   "cell_type": "code",
   "execution_count": 5,
   "metadata": {
    "collapsed": false
   },
   "outputs": [
    {
     "data": {
      "text/plain": [
       "'\\nTransformer(\\n\\n  (encoder): Encoder(\\n    (src_emb): Embedding(5, 512)\\n    (pos_emb): Embedding(6, 512)\\n    (layers): ModuleList(\\n    \\n      (0-5): EncoderLayer(            #6个一样的encoder layer\\n        (enc_self_attn): MultiHeadAttention(\\n          (W_Q): Linear(in_features=512, out_features=512, bias=True)\\n          (W_K): Linear(in_features=512, out_features=512, bias=True)\\n          (W_V): Linear(in_features=512, out_features=512, bias=True)\\n        )\\n        (pos_ffn): PoswiseFeedForwardNet(\\n          (conv1): Conv1d(512, 2048, kernel_size=(1,), stride=(1,))\\n          (conv2): Conv1d(2048, 512, kernel_size=(1,), stride=(1,))\\n        )\\n      )\\n\\n    )\\n  )\\n  \\n  (decoder): Decoder(                 #6个一样的decoder layer\\n    (tgt_emb): Embedding(7, 512)\\n    (pos_emb): Embedding(6, 512)\\n    (layers): ModuleList(\\n    \\n      (0-5): DecoderLayer(\\n        (dec_self_attn): MultiHeadAttention(\\n          (W_Q): Linear(in_features=512, out_features=512, bias=True)\\n          (W_K): Linear(in_features=512, out_features=512, bias=True)\\n          (W_V): Linear(in_features=512, out_features=512, bias=True)\\n        )\\n        (dec_enc_attn): MultiHeadAttention(\\n          (W_Q): Linear(in_features=512, out_features=512, bias=True)\\n          (W_K): Linear(in_features=512, out_features=512, bias=True)\\n          (W_V): Linear(in_features=512, out_features=512, bias=True)\\n        )\\n        (pos_ffn): PoswiseFeedForwardNet(\\n          (conv1): Conv1d(512, 2048, kernel_size=(1,), stride=(1,))\\n          (conv2): Conv1d(2048, 512, kernel_size=(1,), stride=(1,))\\n        )\\n      )\\n      \\n    )\\n  )\\n  \\n  \\n  (projection): Linear(in_features=512, out_features=7, bias=False)\\n)\\n\\n'"
      ]
     },
     "execution_count": 5,
     "metadata": {},
     "output_type": "execute_result"
    }
   ],
   "source": [
    "model = Transformer()\n",
    "criterion = nn.CrossEntropyLoss()\n",
    "# optimizer = torch.optim.Adam(model.parameters(), lr=0.001)\n",
    "optimizer = optim.Adam(    filter(lambda p: p.requires_grad,model.parameters()),   lr=0.001)\n",
    "'''\n",
    "Transformer(\n",
    "\n",
    "  (encoder): Encoder(\n",
    "    (src_emb): Embedding(5, 512)\n",
    "    (pos_emb): Embedding(6, 512)\n",
    "    (layers): ModuleList(\n",
    "    \n",
    "      (0-5): EncoderLayer(            #6个一样的encoder layer\n",
    "        (enc_self_attn): MultiHeadAttention(\n",
    "          (W_Q): Linear(in_features=512, out_features=512, bias=True)\n",
    "          (W_K): Linear(in_features=512, out_features=512, bias=True)\n",
    "          (W_V): Linear(in_features=512, out_features=512, bias=True)\n",
    "        )\n",
    "        (pos_ffn): PoswiseFeedForwardNet(\n",
    "          (conv1): Conv1d(512, 2048, kernel_size=(1,), stride=(1,))\n",
    "          (conv2): Conv1d(2048, 512, kernel_size=(1,), stride=(1,))\n",
    "        )\n",
    "      )\n",
    "\n",
    "    )\n",
    "  )\n",
    "  \n",
    "  (decoder): Decoder(                 #6个一样的decoder layer\n",
    "    (tgt_emb): Embedding(7, 512)\n",
    "    (pos_emb): Embedding(6, 512)\n",
    "    (layers): ModuleList(\n",
    "    \n",
    "      (0-5): DecoderLayer(\n",
    "        (dec_self_attn): MultiHeadAttention(\n",
    "          (W_Q): Linear(in_features=512, out_features=512, bias=True)\n",
    "          (W_K): Linear(in_features=512, out_features=512, bias=True)\n",
    "          (W_V): Linear(in_features=512, out_features=512, bias=True)\n",
    "        )\n",
    "        (dec_enc_attn): MultiHeadAttention(\n",
    "          (W_Q): Linear(in_features=512, out_features=512, bias=True)\n",
    "          (W_K): Linear(in_features=512, out_features=512, bias=True)\n",
    "          (W_V): Linear(in_features=512, out_features=512, bias=True)\n",
    "        )\n",
    "        (pos_ffn): PoswiseFeedForwardNet(\n",
    "          (conv1): Conv1d(512, 2048, kernel_size=(1,), stride=(1,))\n",
    "          (conv2): Conv1d(2048, 512, kernel_size=(1,), stride=(1,))\n",
    "        )\n",
    "      )\n",
    "      \n",
    "    )\n",
    "  )\n",
    "  \n",
    "  \n",
    "  (projection): Linear(in_features=512, out_features=7, bias=False)\n",
    ")\n",
    "\n",
    "'''\n",
    "\n"
   ]
  },
  {
   "cell_type": "code",
   "execution_count": 6,
   "metadata": {
    "collapsed": false
   },
   "outputs": [
    {
     "name": "stdout",
     "output_type": "stream",
     "text": [
      "tensor([[ 1,  2,  3,  4,  0]]) tensor([[ 5,  1,  2,  3,  4]]) tensor([[ 1,  2,  3,  4,  6]])\ntorch.Size([1, 5]) torch.Size([1, 5]) torch.Size([1, 5])\nEpoch: 0001 cost = 1.859222\n"
     ]
    }
   ],
   "source": [
    "for epoch in range(1):\n",
    "    optimizer.zero_grad()\n",
    "    enc_inputs, dec_inputs, target_batch = make_batch(sentences)        \n",
    "    print(enc_inputs,dec_inputs,target_batch)\n",
    "    print(enc_inputs.size(),dec_inputs.size(),target_batch.size())\n",
    "    \n",
    "    #output：(b*m_y,v_y)      enc_self_attn和sec_self_attns和dec_enc_attns是数组，每个元素：(b,8,m,m)\n",
    "    outputs, enc_self_attns, dec_self_attns, dec_enc_attns = model(enc_inputs, dec_inputs)   #model( (b,m_x ),(b,m_y)  )\n",
    "    target=target_batch.contiguous().view(-1)      #  (b*m_y)\n",
    "    loss = criterion(outputs,target)   #criterion(  (b*m_y,v_y), (b*m_y)  )\n",
    "    print('Epoch:', '%04d' % (epoch + 1), 'cost =', '{:.6f}'.format(loss))\n",
    "    loss.backward()\n",
    "    optimizer.step()\n"
   ]
  },
  {
   "cell_type": "code",
   "execution_count": 9,
   "metadata": {
    "collapsed": false
   },
   "outputs": [
    {
     "name": "stdout",
     "output_type": "stream",
     "text": [
      "ich mochte ein bier P -> ['i', 'want', 'a', 'beer', 'E']\nfirst head of last state enc_self_attns\n"
     ]
    },
    {
     "data": {
      "image/png": "[encoded data removed]",
      "text/plain": [
       "<Figure size 576x576 with 1 Axes>"
      ]
     },
     "metadata": {},
     "output_type": "display_data"
    },
    {
     "name": "stdout",
     "output_type": "stream",
     "text": [
      "first head of last state dec_self_attns\n"
     ]
    },
    {
     "data": {
      "image/png": "[encoded data removed]",
      "text/plain": [
       "<Figure size 576x576 with 1 Axes>"
      ]
     },
     "metadata": {},
     "output_type": "display_data"
    },
    {
     "name": "stdout",
     "output_type": "stream",
     "text": [
      "first head of last state dec_enc_attns\n"
     ]
    },
    {
     "data": {
      "image/png": "[encoded data removed]",
      "text/plain": [
       "<Figure size 576x576 with 1 Axes>"
      ]
     },
     "metadata": {},
     "output_type": "display_data"
    }
   ],
   "source": [
    "# Test\n",
    "predict, _, _, _ = model(enc_inputs, dec_inputs)\n",
    "predict = predict.data.max(1, keepdim=True)[1]\n",
    "print(sentences[0], '->', [number_dict[n.item()] for n in predict.squeeze()])\n",
    "\n",
    "print('first head of last state enc_self_attns')\n",
    "showgraph(enc_self_attns)\n",
    "\n",
    "print('first head of last state dec_self_attns')\n",
    "showgraph(dec_self_attns)\n",
    "\n",
    "print('first head of last state dec_enc_attns')\n",
    "showgraph(dec_enc_attns)"
   ]
  },
  {
   "cell_type": "code",
   "execution_count": null,
   "metadata": {},
   "outputs": [],
   "source": []
  }
 ],
 "metadata": {
  "kernelspec": {
   "display_name": "Python 2",
   "language": "python",
   "name": "python2"
  },
  "language_info": {
   "codemirror_mode": {
    "name": "ipython",
    "version": 2
   },
   "file_extension": ".py",
   "mimetype": "text/x-python",
   "name": "python",
   "nbconvert_exporter": "python",
   "pygments_lexer": "ipython2",
   "version": "2.7.6"
  }
 },
 "nbformat": 4,
 "nbformat_minor": 0
}
