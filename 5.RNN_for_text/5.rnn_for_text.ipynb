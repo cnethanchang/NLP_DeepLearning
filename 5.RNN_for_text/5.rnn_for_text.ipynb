{
 "cells": [
  {
   "cell_type": "code",
   "execution_count": 1,
   "metadata": {
    "collapsed": false
   },
   "outputs": [
    {
     "name": "stdout",
     "output_type": "stream",
     "text": [
      " word_list= ['coffee', 'memory', 'trully', 'cat', 'like', 'really', 'i', 'dog', 'hate', 'love', 'very', 'milk', 'do']\n word_dict= {'coffee': 0, 'memory': 1, 'trully': 2, 'cat': 3, 'like': 4, 'really': 5, 'i': 6, 'dog': 7, 'hate': 8, 'love': 9, 'very': 10, 'milk': 11, 'do': 12}\n number_dict= {0: 'coffee', 1: 'memory', 2: 'trully', 3: 'cat', 4: 'like', 5: 'really', 6: 'i', 7: 'dog', 8: 'hate', 9: 'love', 10: 'very', 11: 'milk', 12: 'do'}\nn_class =  13\n"
     ]
    }
   ],
   "source": [
    "#本案例中利用前三个word预测最后一个word\n",
    "# b =4  m=max_len=n_step=3     v=n_class=13    h=n_hidden=5\n",
    "\n",
    "# input = (b,m)  ========>( np.eye(v)[input]) 操作  ) =====>(b,m,v)\n",
    "# X.transpose(0, 1)         X :(b,m,v)===>(m,b,v)\n",
    "\n",
    "\n",
    "\n",
    "#      X :(m,b,v)\n",
     "#     介绍num_layers:  https://discuss.pytorch.org/t/what-is-num-layers-in-rnn-module/9843/2   \n",
    "# hidden :[num_layers(=1) * num_directions(=1) , b,  h]\n",
    "\n",
    "# self.rnn = nn.RNN(input_size=v, hidden_size=h)           #(v,h)\n",
    "#RNN 操作：     outputs, hidden = self.rnn(X, hidden)         #self.rnn(  (m,b,v),(1,b,h) )\n",
    "\n",
    " # 得到的outputs : [m, b, num_directions(=1) * h] \n",
    "# 得到的hidden : [num_layers(=1) * num_directions(=1), b, h]\n",
    "\n",
    "\n",
    "\n",
    "\n",
    "\n",
    "\n",
    "\n",
    "# 然后用output中的最后一层：outputs = outputs[-1]              # [b, num_directions(=1) * h]=(b,h)\n",
    "    \n",
    " # (b, num_directions(=1) * h )  *    (num_directions(=1) * h ,v)= (b,h)*(h,v) = (b,v)\n",
    "#(b,v)与实际的y做softmax得到loss "
   ]
  },
  {
   "cell_type": "code",
   "execution_count": 2,
   "metadata": {
    "collapsed": false
   },
   "outputs": [
    {
     "name": "stdout",
     "output_type": "stream",
     "text": [
      " word_list= ['coffee', 'memory', 'trully', 'cat', 'like', 'really', 'i', 'dog', 'hate', 'love', 'very', 'milk', 'do']\n word_dict= {'coffee': 0, 'memory': 1, 'trully': 2, 'cat': 3, 'like': 4, 'really': 5, 'i': 6, 'dog': 7, 'hate': 8, 'love': 9, 'very': 10, 'milk': 11, 'do': 12}\n number_dict= {0: 'coffee', 1: 'memory', 2: 'trully', 3: 'cat', 4: 'like', 5: 'really', 6: 'i', 7: 'dog', 8: 'hate', 9: 'love', 10: 'very', 11: 'milk', 12: 'do'}\nn_class =  13\n"
     ]
    }
   ],
   "source": [
    "import numpy as np\n",
    "import torch\n",
    "import torch.nn as nn\n",
    "import torch.optim as optim\n",
    "from torch.autograd import Variable\n",
    "\n",
    "dtype = torch.FloatTensor\n",
    "\n",
    "sentences = [ \"i really like dog\", \"i  do love coffee\", \"i very hate milk\",\"i trully memory cat\"]\n",
    "\n",
    "word_list = \" \".join(sentences).split()\n",
    "\n",
    "word_list = list(set(word_list))\n",
    "word_dict = {w: i for i, w in enumerate(word_list)}\n",
    "number_dict = {i: w for i, w in enumerate(word_list)}\n",
    "n_class = len(word_dict)      #v\n",
    "\n",
    "print(' word_list=',word_list)\n",
    "print(' word_dict=',word_dict)\n",
    "print(' number_dict=',number_dict)\n",
    "print(\"n_class = \" ,len(word_list))\n"
   ]
  },
  {
   "cell_type": "code",
   "execution_count": 3,
   "metadata": {},
   "outputs": [
    {
     "name": "stdout",
     "output_type": "stream",
     "text": [
      "torch.Size([4, 3, 13])\ntorch.Size([4])\n"
     ]
    }
   ],
   "source": [
    "# TextRNN Parameter\n",
    "batch_size = len(sentences)      #b=4\n",
    "n_step = 3 # number of cells(= number of Step)\n",
    "n_hidden = 5 # number of hidden units in one cell\n",
    "\n",
    "def make_batch(sentences):\n",
    "    input_batch = []\n",
    "    target_batch = []\n",
    "\n",
    "    for sen in sentences:\n",
    "        word = sen.split()\n",
    "        input = [word_dict[n] for n in word[:-1]]\n",
    "        # print(input)  \n",
    "        #[[11, 6, 8]\n",
    "        # print(np.eye(n_class)[input])        #数组中的数字  转化为onehot数组     \n",
    "        '''\n",
    "        [   [0. 0. 0. 0. 0. 0. 0. 0. 0. 0. 0. 1. 0.]\n",
    "            [0. 0. 0. 0. 0. 0. 1. 0. 0. 0. 0. 0. 0.]\n",
    "            [0. 0. 0. 0. 0. 0. 0. 0. 1. 0. 0. 0. 0.] ] '''\n",
    "        input_batch.append(np.eye(n_class)[input])\n",
    "        \n",
    "        target = word_dict[word[-1]]\n",
    "        target_batch.append(target)\n",
    "\n",
    "    return input_batch, target_batch\n",
    "\n",
    "# to Torch.Tensor\n",
    "#input_batch  是每个sentence中[:-1]个word\n",
    "input_batch, target_batch = make_batch(sentences)\n",
    "input_batch = Variable(torch.Tensor(input_batch))\n",
    "print(input_batch.size())    #(b,m,v)=([4, 3, 13])\n",
    "\n",
    "target_batch = Variable(torch.LongTensor(target_batch))\n",
    "print(target_batch.size())    #(b) =([4])\n",
    "\n"
   ]
  },
  {
   "cell_type": "code",
   "execution_count": 4,
   "metadata": {},
   "outputs": [
    {
     "name": "stdout",
     "output_type": "stream",
     "text": [
      "Epoch: 1000 cost = 0.077891\n"
     ]
    },
    {
     "name": "stdout",
     "output_type": "stream",
     "text": [
      "Epoch: 2000 cost = 0.020939\n"
     ]
    },
    {
     "name": "stdout",
     "output_type": "stream",
     "text": [
      "Epoch: 3000 cost = 0.008143\n"
     ]
    },
    {
     "name": "stdout",
     "output_type": "stream",
     "text": [
      "Epoch: 4000 cost = 0.003789\n"
     ]
    },
    {
     "name": "stdout",
     "output_type": "stream",
     "text": [
      "Epoch: 5000 cost = 0.001957\n"
     ]
    }
   ],
   "source": [
    "class TextRNN(nn.Module):\n",
    "    def __init__(self):\n",
    "        super(TextRNN, self).__init__()\n",
    "\n",
    "        self.rnn = nn.RNN(input_size=n_class, hidden_size=n_hidden)   #(v,h)\n",
    "        self.W = nn.Parameter(torch.randn([n_hidden, n_class]).type(dtype))  #(h,v)\n",
    "        self.b = nn.Parameter(torch.randn([n_class]).type(dtype))\n",
    "\n",
    "    def forward(self, hidden, X):\n",
    "        X = X.transpose(0, 1)                       # X :(b,m,v)===>(m,b,v)=(3,4,13)   transpose(0,1)表示第一个和第二个维度互换\n",
    "        outputs, hidden = self.rnn(X, hidden)       # hidden : [num_layers * num_directions, b, h]\n",
    "        # outputs : [m, b, num_directions(=1) * h]\n",
    "        # hidden : [num_layers(=1) * num_directions(=1), b, h]\n",
    "        outputs = outputs[-1] # [b, num_directions(=1) * h]\n",
    "        model = torch.mm(outputs, self.W) + self.b # model :(h,v)*(b,h) =(b,v)\n",
    "        return model\n",
    "\n",
    "model = TextRNN()\n",
    "# print(model)\n",
    "'''\n",
    "TextRNN(\n",
    "  (rnn): RNN(13, 5)\n",
    ")\n",
    "'''\n",
    "criterion = nn.CrossEntropyLoss()\n",
    "optimizer = optim.Adam(model.parameters(), lr=0.001)\n",
    "\n",
    "# Training\n",
    "for epoch in range(1):\n",
    "    optimizer.zero_grad()\n",
    "\n",
    "    # hidden : [num_layers * num_directions, b, h]\n",
    "    hidden = Variable(torch.zeros(1, batch_size, n_hidden))\n",
    "    # input_batch : [b, n_step, n_class]\n",
    "    output = model(hidden, input_batch)   #(b,v)\n",
    "\n",
    "    # output : [b, v],          target_batch : [b] (LongTensor, not one-hot)\n",
    "    loss = criterion(output, target_batch)\n",
    "    if (epoch + 1) % 1000 == 0:\n",
    "        print('Epoch:', '%04d' % (epoch + 1), 'cost =', '{:.6f}'.format(loss))\n",
    "\n",
    "    loss.backward()\n",
    "    optimizer.step()"
   ]
  },
  {
   "cell_type": "code",
   "execution_count": 5,
   "metadata": {},
   "outputs": [
    {
     "name": "stdout",
     "output_type": "stream",
     "text": [
      "[['i', 'really', 'like'], ['i', 'do', 'love'], ['i', 'very', 'hate'], ['i', 'trully', 'memory']] -> ['dog', 'coffee', 'milk', 'cat']\n"
     ]
    }
   ],
   "source": [
    "input = [sen.split()[:-1] for sen in sentences]\n",
    "\n",
    "# Predict\n",
    "hidden = Variable(torch.zeros(1, batch_size, n_hidden))\n",
    "predict = model(hidden, input_batch).data.max(1, keepdim=True)[1]\n",
    "print([sen.split()[:-1] for sen in sentences], '->', [number_dict[n.item()] for n in predict.squeeze()])"
   ]
  },
  {
   "cell_type": "code",
   "execution_count": null,
   "metadata": {},
   "outputs": [],
   "source": []
  }
 ],
 "metadata": {
  "kernelspec": {
   "display_name": "Python 2",
   "language": "python",
   "name": "python2"
  },
  "language_info": {
   "codemirror_mode": {
    "name": "ipython",
    "version": 2
   },
   "file_extension": ".py",
   "mimetype": "text/x-python",
   "name": "python",
   "nbconvert_exporter": "python",
   "pygments_lexer": "ipython2",
   "version": "2.7.6"
  }
 },
 "nbformat": 4,
 "nbformat_minor": 0
}
