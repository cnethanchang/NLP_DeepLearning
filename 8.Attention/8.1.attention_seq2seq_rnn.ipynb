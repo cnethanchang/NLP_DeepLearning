{
 "cells": [
  {
   "cell_type": "code",
   "execution_count": 1,
   "metadata": {
    "collapsed": false
   },
   "outputs": [
    {
     "data": {
      "text/plain": [
       "'\\nn_class=v=11   h=n_hidden=128   b=1   max_len=m=5\\ndkfjd \\n'"
      ]
     },
     "execution_count": 1,
     "metadata": {},
     "output_type": "execute_result"
    }
   ],
   "source": [
    "'''\n",
    "见书本attention章图解\n",
    "attention中分为三大快     encode,decode\n",
    "input = [['ich mochte ein bier P'],[].....]   (m,b,v)\n",
    "output =[['S i want a beer'], [],[]......]   (m,b,v)\n",
    "target = [['i want a beer E'],[],[]......]   (m,b)\n",
    "\n",
    "随机初始化最开始的hidden (1,b,h)\n",
    "input和hidden运行RNN操作\n",
    "enc_outputs, enc_hidden = self.enc_cell(enc_inputs, hidden)    #self.enc_cell( (m,b,v),(1,b,h) )\n",
    "# enc_outputs :(m,b,h)   enc_hidden: (1,b,h)\n",
    "\n",
    "enc_hidden作为新的hidden ， 和output每一层进行RNN操作（迭代m次）：\n",
    "for i in range(m): \n",
    "            # 得到dec_output:(1,b,h) 和新的hidden：(1,b,h)\n",
    "            dec_output, hidden = self.dec_cell( dec_inputs[i], hidden)      # self.dec_cell(   (b,v), ( 1,b,h )  )\n",
    "            \n",
    "            # 用dec_output:(b,h)和enc_output(m,b,h)中的每一层(b,h)内积和操作得到m层(1,b),即(m,1,b),然后softmax操作得attention=(m,1,b)  \n",
    "            attn_weights = self.get_att_weight(dec_output, enc_outputs)   #self.get_att_weight(  (1,b,h), (m,b,h) )      \n",
    "            \n",
    "            #attention：(b,m,1)和enc_outputs :(b,m,h) 运行bmm（batch  matrix multip)操作得到context=(b,1,h)  \n",
    "            #                                          <=============>  等效于每一层enc_output和其attention的乘积，然后相加\n",
    "            context = attn_weights.bmm(enc_outputs)\n",
    "            \n",
    "            #context：(b,1,h) 和这一层的dec_output:(1,b,h)运行concat操作得到(b,2h)\n",
    "            #(v,2h)*(b,2h) =(v,b)\n",
    "output的每一层/每一次迭代得到一个(v,b)，m次后得到(v,b,m)\n",
    "(v,b,m)和target:(m,b)运行交叉熵得到loss，反向传播\n",
    "\n",
    "\n",
    "test操作：\n",
    "input = ['ich mochte ein bier P']      \n",
    "output =['S P P P P P']\n",
    "求target是否等于['i want a beer E'],\n",
    "\n",
    "'''"
   ]
  },
  {
   "cell_type": "code",
   "execution_count": 2,
   "metadata": {
    "collapsed": false
   },
   "outputs": [
    {
     "name": "stdout",
     "output_type": "stream",
     "text": [
      " word_list= ['i', 'beer', 'E', 'a', 'ein', 'S', 'P', 'want', 'ich', 'bier', 'mochte']\n number_dict= {0: 'i', 1: 'beer', 2: 'E', 3: 'a', 4: 'ein', 5: 'S', 6: 'P', 7: 'want', 8: 'ich', 9: 'bier', 10: 'mochte'}\n n_class= 11\n"
     ]
    }
   ],
   "source": [
    "import numpy as np\n",
    "import torch\n",
    "import torch.nn as nn\n",
    "from torch.autograd import Variable\n",
    "import torch.nn.functional as F\n",
    "import matplotlib.pyplot as plt\n",
    "\n",
    "dtype = torch.FloatTensor\n",
    "# S: Symbol that shows starting of decoding input\n",
    "# E: Symbol that shows starting of decoding output\n",
    "# P: Symbol that will fill in blank sequence if current batch data size is short than time steps\n",
    "sentences = ['ich mochte ein bier P', 'S i want a beer', 'i want a beer E']\n",
    "\n",
    "word_list = \" \".join(sentences).split()\n",
    "word_list = list(set(word_list))\n",
    "word_dict = {w: i for i, w in enumerate(word_list)}\n",
    "number_dict = {i: w for i, w in enumerate(word_list)}\n",
    "n_class = len(word_dict)  # vocab list\n",
    "\n",
    "\n",
    "\n",
    "\n",
    "print(' word_list=',word_list)\n",
    "print(' number_dict=',number_dict)\n",
    "print(' n_class=',n_class)\n"
   ]
  },
  {
   "cell_type": "code",
   "execution_count": 3,
   "metadata": {},
   "outputs": [],
   "source": [
    "def make_batch(sentences):\n",
    "    input_batch = [np.eye(n_class)[[word_dict[n] for n in sentences[0].split()]]]      #(b,m,v)= (1,5,11)\n",
    "    output_batch = [np.eye(n_class)[[word_dict[n] for n in sentences[1].split()]]]      #(b,m,v)= (1,5,11)\n",
    "    target_batch = [[word_dict[n] for n in sentences[2].split()]]                       #(b,m)=(1,5)\n",
    "    # make tensor\n",
    "    return Variable(torch.Tensor(input_batch)), Variable(torch.Tensor(output_batch)), Variable(torch.LongTensor(target_batch))\n",
    "\n",
    "input_batch, output_batch, target_batch = make_batch(sentences)"
   ]
  },
  {
   "cell_type": "code",
   "execution_count": 4,
   "metadata": {},
   "outputs": [],
   "source": [
    "class Attention(nn.Module):\n",
    "    def __init__(self):\n",
    "        super(Attention, self).__init__()\n",
    "        self.enc_cell = nn.RNN(input_size=n_class, hidden_size=n_hidden, dropout=0.5)  #(v,h)\n",
    "        self.dec_cell = nn.RNN(input_size=n_class, hidden_size=n_hidden, dropout=0.5)  #(v,h)\n",
    " \n",
    "        # Linear for attention\n",
    "        self.attn = nn.Linear(n_hidden, n_hidden)   #(h,h)\n",
    "        self.out = nn.Linear(n_hidden * 2, n_class) #(2h,v)\n",
    "\n",
    "    def forward(self, enc_inputs, hidden, dec_inputs):         #model(  (b,m,v),(1,b,h),(b,m,v)   )\n",
    "        enc_inputs = enc_inputs.transpose(0, 1)  # enc_inputs: (m,b,v) \n",
    "        dec_inputs = dec_inputs.transpose(0, 1)  # dec_inputs: (m,b,v) \n",
    "\n",
    "        # enc_outputs : [m, b, num_directions(=1) * h]            =(m,b,h)=(5,1,h)           matrix F\n",
    "        # enc_hidden : [num_layers(=1) * num_directions(=1), b, h]=(1,b,h)\n",
    "        enc_outputs, enc_hidden = self.enc_cell(enc_inputs, hidden)  #self.enc_cell( (m,b,v),(1,b,h) )\n",
    "\n",
    "        trained_attn = []\n",
    "        hidden = enc_hidden #(1,b,h)=(1,1,h)\n",
    "        # dec_inputs.size()   =  torch.Size([5, 1, 11]) =(m,b,v)\n",
    "        n_step = len(dec_inputs)            #n_step=m=5\n",
    "\n",
    "        model = Variable(torch.empty([n_step, 1, n_class]))      #(m,b,v)=(5,1,v)\n",
    "\n",
    "        for i in range(n_step):  # each time step\n",
    "            # dec_output : [m(=1), b(=1), num_directions(=1) * h] =(m,b,h) =(1,1,h)\n",
    "            # hidden : [num_layers(=1) * num_directions(=1), b(=1), h] = (1,b,h) = (1,1,h)\n",
    "            dec_output, hidden = self.dec_cell(dec_inputs[i].unsqueeze(0), hidden)       # self.dec_cell(   (b,v), ( 1,b,h )  )\n",
    "            \n",
    "            # attn_weights : [b,1,m]=(1,1,m)\n",
    "            attn_weights = self.get_att_weight(dec_output, enc_outputs)   #self.get_att_weight(  (1,b,h), (5,1,h)          )      \n",
    "                # print(attn_weights.squeeze())                            #tensor([ 0.1914,  0.2034,  0.2043,  0.1994,  0.2016])\n",
    "                # print(attn_weights.squeeze().data.numpy())               #[0.19141854 0.20338222 0.20427436 0.19936943 0.20155545]\n",
    "            trained_attn.append(attn_weights.squeeze().data.numpy())\n",
    "\n",
    "            # matrix-matrix product of matrices [b,1,m] x [b,m,h] =(b,1,h)=(1,1,m)x (1,m,h) = (1,1,h)\n",
    "            context = attn_weights.bmm(enc_outputs.transpose(0, 1))\n",
    "            dec_output = dec_output.squeeze(0)      # (1,b,h) ===>(b,h)\n",
    "            context = context.squeeze(1)            # (b,1,h)===>(b,h)\n",
    "            model[i] = self.out(torch.cat((dec_output, context), 1))  #(2h,v) *(2h,b) =(v,b)\n",
    "        # model.size() =(m,b,v)= torch.Size([5, 1, 11])\n",
    "        # model.transpose(0,1).squeeze(0).size()       #(m,b,v)=====>(b,m,v)====>(b*m,v)\n",
    "        return model.transpose(0, 1).squeeze(0), trained_attn\n",
    "\n",
    "    def get_att_weight(self, dec_output, enc_outputs):  # get attention weight one 'dec_output' with 'enc_outputs'\n",
    "        n_step = len(enc_outputs)\n",
    "        attn_scores = Variable(torch.zeros(n_step))  # attn_scores : [n_step]\n",
    "\n",
    "        for i in range(n_step):\n",
    "            attn_scores[i] = self.get_att_score(dec_output, enc_outputs[i])\n",
    "\n",
    "        # Normalize scores to weights in range 0 to 1\n",
    "        return F.softmax(attn_scores).view(1, 1, -1)\n",
    "\n",
    "    def get_att_score(self, dec_output, enc_output):  # enc_outputs=dec_output=  [b, num_directions(=1) * h]=(h,b)\n",
    "        score = self.attn(enc_output)  # score : (h,b)*(h,b)= (h,b)\n",
    "        return torch.dot(dec_output.view(-1), score.view(-1))  # inner product make scalar value# Parameter\n",
    "    \n"
   ]
  },
  {
   "cell_type": "code",
   "execution_count": 5,
   "metadata": {},
   "outputs": [
    {
     "name": "stderr",
     "output_type": "stream",
     "text": [
      "C:\\software_installed_cs\\Anaconda3\\envs\\pytorch0.4\\lib\\site-packages\\torch\\nn\\modules\\rnn.py:38: UserWarning: dropout option adds dropout after all but last recurrent layer, so non-zero dropout expects num_layers greater than 1, but got dropout=0.5 and num_layers=1\n  \"num_layers={}\".format(dropout, num_layers))\nC:\\software_installed_cs\\Anaconda3\\envs\\pytorch0.4\\lib\\site-packages\\ipykernel_launcher.py:54: UserWarning: Implicit dimension choice for softmax has been deprecated. Change the call to include dim=X as an argument.\n"
     ]
    },
    {
     "name": "stdout",
     "output_type": "stream",
     "text": [
      "Epoch: 0400 cost = 0.000501\n"
     ]
    },
    {
     "name": "stdout",
     "output_type": "stream",
     "text": [
      "Epoch: 0800 cost = 0.000161\n"
     ]
    },
    {
     "name": "stdout",
     "output_type": "stream",
     "text": [
      "Epoch: 1200 cost = 0.000079\n"
     ]
    },
    {
     "name": "stdout",
     "output_type": "stream",
     "text": [
      "Epoch: 1600 cost = 0.000046\n"
     ]
    },
    {
     "name": "stdout",
     "output_type": "stream",
     "text": [
      "Epoch: 2000 cost = 0.000030\n"
     ]
    }
   ],
   "source": [
    "# Parameter\n",
    "n_hidden = 128\n",
    "\n",
    "# hidden : [num_layers(=1) * num_directions(=1), b, h]=(1,b,h)\n",
    "hidden = Variable(torch.zeros(1, 1, n_hidden))\n",
    "\n",
    "model = Attention()\n",
    "criterion = nn.CrossEntropyLoss()\n",
    "optimizer = torch.optim.Adam(model.parameters(), lr=0.001)\n",
    "\n",
    "# Train\n",
    "for epoch in range(2000):\n",
    "    optimizer.zero_grad()\n",
    "    output, _ = model(input_batch, hidden, output_batch)       #model(  (b,m,v),(1,b,h),(b,m,v)   )     output:(b*m,v)\n",
    "\n",
    "    loss = criterion(output, target_batch.squeeze(0))     # target_batch:(b,m)=>(b*m)\n",
    "    if (epoch + 1) % 400 == 0:\n",
    "        print('Epoch:', '%04d' % (epoch + 1), 'cost =', '{:.6f}'.format(loss))\n",
    "\n",
    "    loss.backward()\n",
    "    optimizer.step()\n"
   ]
  },
  {
   "cell_type": "code",
   "execution_count": 7,
   "metadata": {},
   "outputs": [
    {
     "name": "stdout",
     "output_type": "stream",
     "text": [
      "ich mochte ein bier P =========> ['i', 'want', 'a', 'beer', 'E']\n"
     ]
    },
    {
     "name": "stderr",
     "output_type": "stream",
     "text": [
      "C:\\software_installed_cs\\Anaconda3\\envs\\pytorch0.4\\lib\\site-packages\\ipykernel_launcher.py:54: UserWarning: Implicit dimension choice for softmax has been deprecated. Change the call to include dim=X as an argument.\n"
     ]
    },
    {
     "data": {
      "image/png": "[encoded data removed]",
      "text/plain": [
       "<Figure size 360x360 with 1 Axes>"
      ]
     },
     "metadata": {},
     "output_type": "display_data"
    }
   ],
   "source": [
    "# Test\n",
    "# sentences = ['ich mochte ein bier P', 'S P P P P']\n",
    "test_batch = [np.eye(n_class)[[word_dict[n] for n in 'SPPPP']]]  #(b,m,v)=(1,5,v)\n",
    "test_batch = Variable(torch.Tensor(test_batch))\n",
    "predict, trained_attn = model(input_batch, hidden, test_batch)\n",
    "predict = predict.data.max(1, keepdim=True)[1]\n",
    "print(sentences[0], '=========>', [number_dict[n.item()] for n in predict.squeeze()])\n",
    "\n",
    "\n",
    "\n",
    "# Show Attention\n",
    "fig = plt.figure(figsize=(5, 5))\n",
    "ax = fig.add_subplot(1, 1, 1)\n",
    "ax.matshow(trained_attn, cmap='viridis')\n",
    "ax.set_xticklabels([''] + sentences[0].split(), fontdict={'fontsize': 14})\n",
    "ax.set_yticklabels([''] + sentences[2].split(), fontdict={'fontsize': 14})\n",
    "plt.show()"
   ]
  },
  {
   "cell_type": "code",
   "execution_count": 32,
   "metadata": {},
   "outputs": [],
   "source": []
  },
  {
   "cell_type": "code",
   "execution_count": null,
   "metadata": {},
   "outputs": [],
   "source": []
  }
 ],
 "metadata": {
  "kernelspec": {
   "display_name": "Python 2",
   "language": "python",
   "name": "python2"
  },
  "language_info": {
   "codemirror_mode": {
    "name": "ipython",
    "version": 2
   },
   "file_extension": ".py",
   "mimetype": "text/x-python",
   "name": "python",
   "nbconvert_exporter": "python",
   "pygments_lexer": "ipython2",
   "version": "2.7.6"
  }
 },
 "nbformat": 4,
 "nbformat_minor": 0
}
