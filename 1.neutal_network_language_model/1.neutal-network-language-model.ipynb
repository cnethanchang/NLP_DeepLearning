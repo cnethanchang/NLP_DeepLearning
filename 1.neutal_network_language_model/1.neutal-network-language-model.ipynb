{
 "cells": [
  {
   "cell_type": "code",
   "execution_count": 2,
   "metadata": {},
   "outputs": [
    {
     "name": "stdout",
     "output_type": "stream",
     "text": [
      "['like', 'i', 'trully', 'do', 'dog', 'love', 'coffee', 'hate', 'cat', 'milk', 'really', 'memory', 'very']\n{'like': 0, 'i': 1, 'trully': 2, 'do': 3, 'dog': 4, 'love': 5, 'coffee': 6, 'hate': 7, 'cat': 8, 'milk': 9, 'really': 10, 'memory': 11, 'very': 12}\n{0: 'like', 1: 'i', 2: 'trully', 3: 'do', 4: 'dog', 5: 'love', 6: 'coffee', 7: 'hate', 8: 'cat', 9: 'milk', 10: 'really', 11: 'memory', 12: 'very'}\n13\n"
     ]
    }
   ],
   "source": [
    "# code by Tae Hwan Jung @graykode\n",
    "import numpy as np\n",
    "import torch\n",
    "import torch.nn as nn\n",
    "import torch.optim as optim\n",
    "from torch.autograd import Variable\n",
    "dtype = torch.FloatTensor\n",
    "\n",
    "\n",
    "#这个project中 X为sentence中前3个word，预测最后一个word\n",
    "\n",
    "\n",
    "sentences = [ \"i really like dog\", \"i  do love coffee\", \"i very hate milk\",\"i trully memory cat\"]\n",
    "\n",
    "word_list = \" \".join(sentences).split()\n",
    "word_list = list(set(word_list))\n",
    "word_dict = {w: i for i, w in enumerate(word_list)}\n",
    "number_dict = {i: w for i, w in enumerate(word_list)}\n",
    "v = len(word_dict) # number of Vocabulary\n",
    "\n",
    "\n",
    "print(word_list)\n",
    "print(word_dict)\n",
    "print(number_dict)\n",
    "print(v)\n",
    "\n"
   ]
  },
  {
   "cell_type": "code",
   "execution_count": 6,
   "metadata": {},
   "outputs": [
    {
     "name": "stdout",
     "output_type": "stream",
     "text": [
      "NNLM(\n  (C): Embedding(13, 2)\n)\n"
     ]
    },
    {
     "name": "stdout",
     "output_type": "stream",
     "text": [
      "Epoch: 1000 cost = 0.026569\n"
     ]
    },
    {
     "name": "stdout",
     "output_type": "stream",
     "text": [
      "Epoch: 2000 cost = 0.007133\n"
     ]
    },
    {
     "name": "stdout",
     "output_type": "stream",
     "text": [
      "Epoch: 3000 cost = 0.003072\n"
     ]
    },
    {
     "name": "stdout",
     "output_type": "stream",
     "text": [
      "Epoch: 4000 cost = 0.001544\n"
     ]
    },
    {
     "name": "stdout",
     "output_type": "stream",
     "text": [
      "Epoch: 5000 cost = 0.000833\n"
     ]
    }
   ],
   "source": [
    "\n",
    "# NNLM Parameter\n",
    "max_length = 3  #max_lenth_of_input_word\n",
    "hidden = 6       # hidden\n",
    "d =2             #d=dimention\n",
    "def make_batch(sentences):\n",
    "    input_batch = []\n",
    "    target_batch = []\n",
    "    for sen in sentences:\n",
    "        word = sen.split()\n",
    "        input = [word_dict[n] for n in word[:-1]]\n",
    "        target = word_dict[word[-1]]\n",
    "\n",
    "        input_batch.append(input)\n",
    "        target_batch.append(target)\n",
    "\n",
    "    return input_batch, target_batch\n",
    "\n",
    "\n",
    "\n",
    "\n",
    "\n",
    "\n",
    "# Model\n",
    "class NNLM(nn.Module):\n",
    "    def __init__(self):\n",
    "        super(NNLM, self).__init__()\n",
    "        self.C = nn.Embedding(v, d)\n",
    "        self.H = nn.Parameter(torch.randn(max_length * d, hidden).type(dtype))\n",
    "        self.W = nn.Parameter(torch.randn(max_length * d, v).type(dtype))\n",
    "        self.d = nn.Parameter(torch.randn(hidden).type(dtype))\n",
    "        self.U = nn.Parameter(torch.randn(hidden, v).type(dtype))\n",
    "        self.b = nn.Parameter(torch.randn(v).type(dtype))\n",
    "\n",
    "    def forward(self, X):\n",
    "        X = self.C(X)          #(d,v) * (v,max_length,b) = (b,d,max_length)\n",
    "        X = X.view(-1, max_length * d) # [b, max_length * v]\n",
    "        tanh = torch.tanh(self.d + torch.mm(X, self.H)) # [batch_size, hidden]\n",
    "        output = self.b + torch.mm(X, self.W) + torch.mm(tanh, self.U) # [batch_size, n_class]\n",
    "        return output\n",
    "\n",
    "model = NNLM()\n",
    "\n",
    "print(model)\n",
    "\n",
    "criterion = nn.CrossEntropyLoss()\n",
    "optimizer = optim.Adam(model.parameters(), lr=0.001)\n",
    "\n",
    "input_batch, target_batch = make_batch(sentences)\n",
    "#input_batch  (b,max_length)= (4,3)\n",
    "input_batch = Variable(torch.LongTensor(input_batch))\n",
    "target_batch = Variable(torch.LongTensor(target_batch))\n",
    "\n",
    "# Training\n",
    "for epoch in range(5000):\n",
    "    optimizer.zero_grad()\n",
    "\n",
    "    # print(\"input\" ,input_batch)\n",
    "    output = model(input_batch)\n",
    "\n",
    "    # output : [batch_size, n_class], target_batch : [batch_size] (LongTensor, not one-hot)\n",
    "    loss = criterion(output, target_batch)\n",
    "    if (epoch + 1)%1000 == 0:\n",
    "        print('Epoch:', '%04d' % (epoch + 1), 'cost =', '{:.6f}'.format(loss))\n",
    "\n",
    "    loss.backward()\n",
    "    optimizer.step()\n",
    "\n"
   ]
  },
  {
   "cell_type": "code",
   "execution_count": 8,
   "metadata": {},
   "outputs": [
    {
     "name": "stdout",
     "output_type": "stream",
     "text": [
      "[['i', 'really', 'like'], ['i', 'do', 'love'], ['i', 'very', 'hate'], ['i', 'trully', 'memory']] -> ['dog', 'coffee', 'milk', 'cat']\n"
     ]
    }
   ],
   "source": [
    "# Predict\n",
    "predict = model(input_batch).data.max(1, keepdim=True)[1]\n",
    "\n",
    "# Test\n",
    "print([sen.split()[:3] for sen in sentences], '->', [number_dict[n.item()] for n in predict.squeeze()])\n"
   ]
  },
  {
   "cell_type": "code",
   "execution_count": 9,
   "metadata": {},
   "outputs": [],
   "source": []
  },
  {
   "cell_type": "code",
   "execution_count": null,
   "metadata": {},
   "outputs": [],
   "source": []
  }
 ],
 "metadata": {
  "kernelspec": {
   "display_name": "Python 2",
   "language": "python",
   "name": "python2"
  },
  "language_info": {
   "codemirror_mode": {
    "name": "ipython",
    "version": 2
   },
   "file_extension": ".py",
   "mimetype": "text/x-python",
   "name": "python",
   "nbconvert_exporter": "python",
   "pygments_lexer": "ipython2",
   "version": "2.7.6"
  }
 },
 "nbformat": 4,
 "nbformat_minor": 0
}
