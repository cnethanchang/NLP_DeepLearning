{
 "cells": [
  {
   "cell_type": "code",
   "execution_count": 1,
   "metadata": {
    "collapsed": false
   },
   "outputs": [
    {
     "data": {
      "text/plain": [
       "'\\nv=vocab_size=16\\nb=batch_size=6\\nm=max_len=3\\nd=embedding_dim = 2\\nh= n_hidden = 5 \\no=num_classes = 2         # 0 or 1\\n\\n'"
      ]
     },
     "execution_count": 1,
     "metadata": {},
     "output_type": "execute_result"
    }
   ],
   "source": [
    "'''\n",
    "见下面的jpg  m=3  b=6  v=16    d=2  h=5\n",
    "attention中分为三大快     encode,decode\n",
    "input =  [\"i love you\", \"he loves me\", \"she likes baseball\", \"i hate you\", \"sorry for that\", \"this is awful\"]   (m,b,v)=(3,6,16)\n",
    "output = [1, 1, 1, 0, 0, 0]   (b,o)=(6,2)\n",
    "\n",
    "\n",
    "\n",
    "input: (m,b,v)====>(m,b,d)\n",
    "#input和随机初始化的hidden和cell做LSTM操作，得到output:(m,b,2*h),    final_hidden_state, final_cell_state : =(2,b,h)\n",
    "\n",
    "# final_hidden_state:(b,2*h)和output:(m,b,2*h),的每一层(b,2*h)内积和操作得到m层(1,b),即(m,1,b),然后softmax操作得attention=(b,m,1)====>m方向softmax===(b,m,1)\n",
    "bmm(  (b,m,2*h),(b,2*h,1) ) = (b,m,1)  \n",
    "\n",
    "#output:(b,2*h,m) 和 attention：(b,m,1) 运行bmm（batch  matrix multip)操作得到context= （b,2*h,1）     \n",
    "#                                                      <=============>  等效于每一层output和其attention的乘积，然后相加\n",
    "bmm( (b,2*h,m ),(b,m,1） ） = （b,2*h,1）   \n",
    "\n",
    "\n",
    "\n",
    "#输出\n",
    "(o,2*h) * (2*h,b) = (o,b)\n",
    "(o,b)和ouput运行交叉熵得到loss，反向传播\n",
    "\n",
    "\n",
    "\n",
    "#test操作：\n",
    "input = 'i hate baseball'   #(b,m,v)=(1,3,16)========>(b,m,d)\n",
    "判断输出是0或1\n",
    "\n",
    "predict, _ = model(test_batch)                     # predict : (b,o) =(1,2)\n",
    "# print(predict)                                   # tensor([[ 2.3760, -2.8618]])\n",
    "# print(predict.data.max(1,keepdim=True))          #是元组   (tensor([[ 2.3760]]) , tensor([[ 0]]))\n",
    "predict = predict.data.max(1, keepdim=True)[1]     # tensor([[ 0]]))\n",
    "if predict[0][0] == 0:                             # 表示元组的第二位是0，元组的第一位是最大值，即输出为0===>bad\n",
    "    print(\"'\"+test_text+\"'      \",\"is Bad\")\n",
    "else:\n",
    "    print(\"'\"+test_text+\"'      \",\"is Good \")\n",
    "\n",
    "'''"
   ]
  },
  {
   "cell_type": "code",
   "execution_count": 2,
   "metadata": {},
   "outputs": [
    {
     "name": "stdout",
     "output_type": "stream",
     "text": [
      "word_list= ['he', 'awful', 'she', 'baseball', 'hate', 'sorry', 'i', 'that', 'you', 'likes', 'is', 'this', 'love', 'me', 'loves', 'for']\nword_dict= {'he': 0, 'awful': 1, 'she': 2, 'baseball': 3, 'hate': 4, 'sorry': 5, 'i': 6, 'that': 7, 'you': 8, 'likes': 9, 'is': 10, 'this': 11, 'love': 12, 'me': 13, 'loves': 14, 'for': 15}\nvocab_size =  16\n"
     ]
    }
   ],
   "source": [
    "import numpy as np\n",
    "import torch\n",
    "import torch.nn as nn\n",
    "import torch.optim as optim\n",
    "from torch.autograd import Variable\n",
    "import torch.nn.functional as F\n",
    "import matplotlib.pyplot as plt\n",
    "\n",
    "dtype = torch.FloatTensor\n",
    "\n",
    "# Bi-LSTM(Attention) Parameters\n",
    "embedding_dim = 2\n",
    "n_hidden = 5 # number of hidden units in one cell\n",
    "num_classes = 2  # 0 or 1\n",
    "\n",
    "# 3 words sentences (=sequence_length is 3)\n",
    "sentences = [\"i love you\", \"he loves me\", \"she likes baseball\", \"i hate you\", \"sorry for that\", \"this is awful\"]\n",
    "labels = [1, 1, 1, 0, 0, 0]  # 1 is good, 0 is not good.\n",
    "\n",
    "word_list = \" \".join(sentences).split()\n",
    "word_list = list(set(word_list))\n",
    "word_dict = {w: i for i, w in enumerate(word_list)}\n",
    "vocab_size = len(word_dict)\n",
    "\n",
    "\n",
    "print('word_list=',word_list)\n",
    "print('word_dict=',word_dict)\n",
    "print(\"vocab_size = \" ,vocab_size)"
   ]
  },
  {
   "cell_type": "code",
   "execution_count": 3,
   "metadata": {},
   "outputs": [
    {
     "name": "stdout",
     "output_type": "stream",
     "text": [
      "[array([ 6, 12,  8]), array([ 0, 14, 13]), array([2, 9, 3]), array([6, 4, 8]), array([ 5, 15,  7]), array([11, 10,  1])]\ninput= torch.Size([6, 3])\ntarget= torch.Size([6])\n"
     ]
    }
   ],
   "source": [
    "inputs = []\n",
    "for sen in sentences:\n",
    "    inputs.append(np.asarray([word_dict[n] for n in sen.split()]))\n",
    "print(inputs)\n",
    "\n",
    "targets = []\n",
    "for out in labels:\n",
    "    targets.append(out)         # To using Torch Softmax Loss function\n",
    "\n",
    "input_batch = Variable(torch.LongTensor(inputs))\n",
    "target_batch = Variable(torch.LongTensor(targets))\n",
    "print(\"input=\",input_batch.size())\n",
    "print(\"target=\",target_batch.size())"
   ]
  },
  {
   "cell_type": "code",
   "execution_count": 4,
   "metadata": {},
   "outputs": [
    {
     "name": "stdout",
     "output_type": "stream",
     "text": [
      "BiLSTM_Attention(\n  (embedding): Embedding(16, 2)\n  (lstm): LSTM(2, 5, bidirectional=True)\n  (out): Linear(in_features=10, out_features=2, bias=True)\n)\n"
     ]
    },
    {
     "name": "stdout",
     "output_type": "stream",
     "text": [
      "Epoch: 1000 cost = 0.003527\n"
     ]
    },
    {
     "name": "stdout",
     "output_type": "stream",
     "text": [
      "Epoch: 2000 cost = 0.000817\n"
     ]
    },
    {
     "name": "stdout",
     "output_type": "stream",
     "text": [
      "Epoch: 3000 cost = 0.000318\n"
     ]
    },
    {
     "name": "stdout",
     "output_type": "stream",
     "text": [
      "Epoch: 4000 cost = 0.000150\n"
     ]
    },
    {
     "name": "stdout",
     "output_type": "stream",
     "text": [
      "Epoch: 5000 cost = 0.000078\n"
     ]
    },
    {
     "name": "stdout",
     "output_type": "stream",
     "text": [
      "Epoch: 6000 cost = 0.000042\n"
     ]
    },
    {
     "name": "stdout",
     "output_type": "stream",
     "text": [
      "Epoch: 7000 cost = 0.000024\n"
     ]
    },
    {
     "name": "stdout",
     "output_type": "stream",
     "text": [
      "Epoch: 8000 cost = 0.000014\n"
     ]
    },
    {
     "name": "stdout",
     "output_type": "stream",
     "text": [
      "Epoch: 9000 cost = 0.000008\n"
     ]
    },
    {
     "name": "stdout",
     "output_type": "stream",
     "text": [
      "Epoch: 10000 cost = 0.000005\n"
     ]
    }
   ],
   "source": [
    "class BiLSTM_Attention(nn.Module):\n",
    "    def __init__(self):\n",
    "        super(BiLSTM_Attention, self).__init__()\n",
    "\n",
    "        self.embedding = nn.Embedding(vocab_size, embedding_dim)   #(v,d)\n",
    "        self.lstm = nn.LSTM(embedding_dim, n_hidden, bidirectional=True)\n",
    "        self.out = nn.Linear(n_hidden * 2, num_classes)  #(2*h,o)\n",
    "\n",
    "    # lstm_output : [b,m, h * num_directions(=2)] = (b,m,2*h)\n",
    "    def attention_net(self, lstm_output, final_state):\n",
    "        hidden = final_state.view(-1, n_hidden * 2, 1)   # hidden : (2,b,h)====>(b,2*h,1) =(b,hidden * num_directions(=2), n_layer)\n",
    "        attn_weights = torch.bmm(lstm_output, hidden).squeeze(2) #bmm(  (b,m,2*h),(b,2*h,1) ) = (b,m,1)\n",
    "        soft_attn_weights = F.softmax(attn_weights, 1)        #soft_attn_weights =(b,m)  沿着m方向softmax操作\n",
    "        \n",
    "        #bmm( (b,2*h,m ),(b,m,1） ） = （b,2*h,1)  =======>squeeze(2)操作==>(b,2*h)\n",
    "        context = torch.bmm(lstm_output.transpose(1, 2), soft_attn_weights.unsqueeze(2)).squeeze(2)    \n",
    "        return context, soft_attn_weights.data.numpy() # context : (b,2*h)\n",
    "\n",
    "    def forward(self, X):  #X:(b,m)\n",
    "        input = self.embedding(X) # input : (b,m,d)\n",
    "        input = input.permute(1, 0, 2) # (b,m,d)====>(m,b,d)\n",
    "\n",
    "        hidden_state = Variable(torch.zeros(1*2, len(X), n_hidden)) # [num_layers(=1) * num_directions(=2), b, h]=(2,b,h)\n",
    "        cell_state = Variable(torch.zeros(1*2, len(X), n_hidden)) # [num_layers(=1) * num_directions(=2), b, h]=(2,b,h)\n",
    "\n",
    "        # output:(m,b,2*h)                     final_hidden_state, final_cell_state : [num_layers(=1) * num_directions(=2), b, h]=(2,b,h)\n",
    "        output, (final_hidden_state, final_cell_state) = self.lstm(input, (hidden_state, cell_state)) # self.lstm(  (m,b,d),  ( (2,b,h),(2,b,h)  )   )\n",
    "        output = output.permute(1, 0, 2) # output :(m,b,2*h) ==>(b,m,2*h)\n",
    "        attn_output, attention = self.attention_net(output, final_hidden_state)        # self.attention_net(  (b,m,2*h),(2,b,h) )\n",
    "        #attn_ouput: (b,2*h)          # model : (2*h,o)*(b,2*h) = (b,o)          attention : (b,m))\n",
    "        return self.out(attn_output), attention \n",
    "\n",
    "\n",
    "model = BiLSTM_Attention()\n",
    "print(model)\n",
    "criterion = nn.CrossEntropyLoss()\n",
    "optimizer = optim.Adam(model.parameters(), lr=0.001)\n",
    "\n",
    "# Training\n",
    "for epoch in range(10000):\n",
    "    optimizer.zero_grad()\n",
    "    #output : (b,o)          attention : (b,m)\n",
    "    output, attention = model(input_batch)    #mode( (b,m) )  = model( (6,3) )\n",
    "\n",
    "    loss = criterion(output, target_batch)   # criterion(  (b,o),  (b) )   \n",
    "    if (epoch + 1) % 1000 == 0:\n",
    "        print('Epoch:', '%04d' % (epoch + 1), 'cost =', '{:.6f}'.format(loss))\n",
    "\n",
    "    loss.backward()\n",
    "    optimizer.step()"
   ]
  },
  {
   "cell_type": "code",
   "execution_count": 6,
   "metadata": {},
   "outputs": [
    {
     "name": "stdout",
     "output_type": "stream",
     "text": [
      "'i hate baseball'       is Bad\n"
     ]
    },
    {
     "data": {
      "image/png": "[encoded data removed]",
      "text/plain": [
       "<Figure size 432x216 with 1 Axes>"
      ]
     },
     "metadata": {},
     "output_type": "display_data"
    }
   ],
   "source": [
    "# Test\n",
    "test_text = 'i hate baseball'\n",
    "tests = [np.asarray([word_dict[n] for n in test_text.split()])]\n",
    "test_batch = Variable(torch.LongTensor(tests))\n",
    "\n",
    "predict, _ = model(test_batch)      # predict : (b,o) =(1,2)\n",
    "# print(predict)                     #tensor([[ 2.3760, -2.8618]])\n",
    "# print(predict.data.max(1,keepdim=True))  #是元组   (tensor([[ 2.3760]]) , tensor([[ 0]]))\n",
    "predict = predict.data.max(1, keepdim=True)[1]     #tensor([[ 0]]))\n",
    "if predict[0][0] == 0:            #表示元组的第二位是0，元组的第一位是最大值，即输出为0===>bad\n",
    "    print(\"'\"+test_text+\"'      \",\"is Bad\")\n",
    "else:\n",
    "    print(\"'\"+test_text+\"'      \",\"is Good \")\n",
    "    \n",
    "fig = plt.figure(figsize=(6, 3)) # [batch_size, n_step]\n",
    "ax = fig.add_subplot(1, 1, 1)\n",
    "ax.matshow(attention, cmap='viridis')\n",
    "ax.set_xticklabels(['']+['first_word', 'second_word', 'third_word'], fontdict={'fontsize': 14}, rotation=90)\n",
    "ax.set_yticklabels(['']+['batch_1', 'batch_2', 'batch_3', 'batch_4', 'batch_5', 'batch_6'], fontdict={'fontsize': 14})\n",
    "plt.show()"
   ]
  },
  {
   "cell_type": "code",
   "execution_count": 7,
   "metadata": {},
   "outputs": [],
   "source": []
  },
  {
   "cell_type": "code",
   "execution_count": null,
   "metadata": {},
   "outputs": [],
   "source": []
  }
 ],
 "metadata": {
  "kernelspec": {
   "display_name": "Python 2",
   "language": "python",
   "name": "python2"
  },
  "language_info": {
   "codemirror_mode": {
    "name": "ipython",
    "version": 2
   },
   "file_extension": ".py",
   "mimetype": "text/x-python",
   "name": "python",
   "nbconvert_exporter": "python",
   "pygments_lexer": "ipython2",
   "version": "2.7.6"
  }
 },
 "nbformat": 4,
 "nbformat_minor": 0
}
