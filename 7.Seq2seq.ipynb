{
 "cells": [
  {
   "cell_type": "code",
   "execution_count": 20,
   "metadata": {
    "collapsed": false
   },
   "outputs": [
    {
     "data": {
      "text/plain": [
       "\"\\n本项目类似于翻译，encode，decode                  manPP,Swomen ==========>womenE\\n\\n# S: Symbol that shows starting of decoding input\\n# E: Symbol that shows starting of decoding output\\n# P: Symbol that will fill in blank sequence if current batch data size is short than time steps\\n\\n本项目中len(seq_data) = batch =6    n_class=v=26+3=29    max_len=n_step=5   h=128  \\n补齐max_len=5 \\n\\ninput 为 ['manPP', 'black','kingP', 'girlP', 'upPPP', 'highP']\\ninput_batch= torch.Size([6, 5, 29]) = (b,max_len,v)\\n\\nouput 为  ['Swomen', 'Swhite', 'Squeen', 'SboyPP', 'SdownP', 'SlowPP']\\noutput_batch= torch.Size([6, 6, 29]) = (b,max_len+1,v)\\n\\ntarget 为  ['womenE', 'whiteE'', 'queenE'', 'boyPPE'', 'downPE'', 'lowPPE'']\\ntarget_batch =  torch.Size([6, 6]) = (b,max_len+1)\\n\\n\\n\\ndef forward(self, enc_input, enc_hidden, dec_input):         # enc_input: (m,b,v)    enc_hidden:(1,b,h),     dec_input: (m+1,b,v) \\n        #（encode）input和hidden运行RNN之后区其的最后attention：（1，b，h）\\n        _, enc_states = self.enc_cell(enc_input, enc_hidden)        #      self.enc_cell( (m,b,v) ,(1,b,h) )       # enc_states: = (1,b,h)\\n        \\n        #（decode）将最后的attention和output运行RNN之后取其输出outputs : (m+1,b,h)\\n        outputs, _ = self.dec_cell(dec_input, enc_states)          #  self.dec_cell( (m+1,b,v)  , (1,b,h))          # outputs : (m+1,b,h)\\n\\n        然后(v,h) * (m+1,b,h) = (v,m+1,b) \\n        (v,m+1,b)和target_batch运行softmax，迭代更新RNN的parameters\\n        \\n\""
      ]
     },
     "execution_count": 20,
     "metadata": {},
     "output_type": "execute_result"
    }
   ],
   "source": [
    "'''\n",
    "本项目类似于翻译，encode，decode                  manPP,Swomen ==========>womenE\n",
    "\n",
    "# S: Symbol that shows starting of decoding input\n",
    "# E: Symbol that shows starting of decoding output\n",
    "# P: Symbol that will fill in blank sequence if current batch data size is short than time steps\n",
    "\n",
    "本项目中len(seq_data) = batch =6    n_class=v=26+3=29    max_len=n_step=5   h=128  \n",
    "补齐max_len=5  \n",
    "\n",
    "input 为 ['manPP', 'black','kingP', 'girlP', 'upPPP', 'highP']\n",
    "input_batch= torch.Size([6, 5, 29]) = (b,max_len,v)\n",
    "\n",
    "ouput 为  ['Swomen', 'Swhite', 'Squeen', 'SboyPP', 'SdownP', 'SlowPP']\n",
    "output_batch= torch.Size([6, 6, 29]) = (b,max_len+1,v)\n",
    "\n",
    "target 为  ['womenE', 'whiteE'', 'queenE'', 'boyPPE'', 'downPE'', 'lowPPE'']\n",
    "target_batch =  torch.Size([6, 6]) = (b,max_len+1)\n",
    "\n",
    "\n",
    "\n",
    "def forward(self, enc_input, enc_hidden, dec_input):         # enc_input: (m,b,v)    enc_hidden:(1,b,h),     dec_input: (m+1,b,v) \n",
    "        #（encode步骤）input和hidden运行RNN之后取其的最后attention：（1，b，h）\n",
    "        _, enc_states = self.enc_cell(enc_input, enc_hidden)        #      self.enc_cell( (m,b,v) ,(1,b,h) )       # enc_states: = (1,b,h)\n",
    "        \n",
    "        #（decode步骤）将encode最后输出的attention和output   运行RNN之后取其输出outputs : (m+1,b,h)\n",
    "        outputs, _ = self.dec_cell(dec_input, enc_states)          #  self.dec_cell( (m+1,b,v)  , (1,b,h))          # outputs : (m+1,b,h)\n",
    "\n",
    "        然后(v,h) * (m+1,b,h) = (v,m+1,b) \n",
    "        (v,m+1,b)和target_batch运行softmax，迭代更新RNN的parameters\n",
    "        \n",
    "'''"
   ]
  },
  {
   "cell_type": "code",
   "execution_count": 2,
   "metadata": {
    "collapsed": false
   },
   "outputs": [
    {
     "name": "stdout",
     "output_type": "stream",
     "text": [
      " char_arr= ['S', 'E', 'P', 'a', 'b', 'c', 'd', 'e', 'f', 'g', 'h', 'i', 'j', 'k', 'l', 'm', 'n', 'o', 'p', 'q', 'r', 's', 't', 'u', 'v', 'w', 'x', 'y', 'z']\n num_dic= {'S': 0, 'E': 1, 'P': 2, 'a': 3, 'b': 4, 'c': 5, 'd': 6, 'e': 7, 'f': 8, 'g': 9, 'h': 10, 'i': 11, 'j': 12, 'k': 13, 'l': 14, 'm': 15, 'n': 16, 'o': 17, 'p': 18, 'q': 19, 'r': 20, 's': 21, 't': 22, 'u': 23, 'v': 24, 'w': 25, 'x': 26, 'y': 27, 'z': 28}\n n_class= 29\nbatch_size =  6\n seq_data= [['man', 'women'], ['black', 'white'], ['king', 'queen'], ['girl', 'boy'], ['up', 'down'], ['high', 'low']]\n"
     ]
    }
   ],
   "source": [
    "# code by Tae Hwan Jung(Jeff Jung) @graykode\n",
    "import numpy as np\n",
    "import torch\n",
    "import torch.nn as nn\n",
    "from torch.autograd import Variable\n",
    "\n",
    "dtype = torch.FloatTensor\n",
    "\n",
    "\n",
    "char_arr = [c for c in 'SEPabcdefghijklmnopqrstuvwxyz']\n",
    "num_dic = {n: i for i, n in enumerate(char_arr)}\n",
    "\n",
    "seq_data = [['man', 'women'], ['black', 'white'], ['king', 'queen'], ['girl', 'boy'], ['up', 'down'], ['high', 'low']]\n",
    "\n",
    "# Seq2Seq Parameter\n",
    "n_step = 5\n",
    "n_hidden = 128\n",
    "\n",
    "n_class = len(num_dic)\n",
    "batch_size = len(seq_data)\n",
    "\n",
    "print(' char_arr=',char_arr)\n",
    "print(' num_dic=',num_dic)\n",
    "print(' n_class=',n_class)\n",
    "print(\"batch_size = \" ,batch_size)\n",
    "print(' seq_data=',seq_data)\n"
   ]
  },
  {
   "cell_type": "code",
   "execution_count": 16,
   "metadata": {},
   "outputs": [
    {
     "name": "stdout",
     "output_type": "stream",
     "text": [
      " seq_data= [['manPP', 'women'], ['black', 'white'], ['kingP', 'queen'], ['girlP', 'boyPP'], ['upPPP', 'downP'], ['highP', 'lowPP']]\n0 manPP  1 Swomen  2 womenE            0 black  1 Swhite  2 whiteE            0 kingP  1 Squeen  2 queenE            0 girlP  1 SboyPP  2 boyPPE            0 upPPP  1 SdownP  2 downPE            0 highP  1 SlowPP  2 lowPPE             seq_data= [['manPP', 'women'], ['black', 'white'], ['kingP', 'queen'], ['girlP', 'boyPP'], ['upPPP', 'downP'], ['highP', 'lowPP']]\n input_batch= torch.Size([6, 5, 29])\n output_batch= torch.Size([6, 6, 29])\ntarget_batch =  torch.Size([6, 6])\n"
     ]
    }
   ],
   "source": [
    "def make_batch(seq_data):\n",
    "    input_batch, output_batch, target_batch = [], [], []\n",
    "    for seq in seq_data:\n",
    "        for i in range(2):\n",
    "            seq[i] = seq[i] + 'P' * (n_step - len(seq[i]))\n",
    "        print(\"0\",seq[0],end=\"  \")\n",
    "        input = [num_dic[n] for n in seq[0]]\n",
    "        print(\"1\",'S' + seq[1],end=\"  \")\n",
    "        output = [num_dic[n] for n in ('S' + seq[1])]\n",
    "        print(\"2\",seq[1] +'E',end=\"            \")\n",
    "        target = [num_dic[n] for n in (seq[1] +'E')]\n",
    "    \n",
    "\n",
    "        input_batch.append(np.eye(n_class)[input])      #input_batch= torch.Size([6, 5, 29])\n",
    "        output_batch.append(np.eye(n_class)[output])  #output_batch= torch.Size([6, 6, 29])\n",
    "        target_batch.append(target) # not one-hot        #target_batch =  torch.Size([6, 6])\n",
    "\n",
    "    # make tensor\n",
    "    return Variable(torch.Tensor(input_batch)), Variable(torch.Tensor(output_batch)), Variable(torch.LongTensor(target_batch))\n",
    "\n",
    "print(' seq_data=',seq_data)\n",
    "input_batch, output_batch, target_batch = make_batch(seq_data)\n",
    "print(' seq_data=',seq_data)\n",
    "print(' input_batch=',input_batch.size())\n",
    "print(' output_batch=',output_batch.size())\n",
    "print(\"target_batch = \" ,target_batch.size())"
   ]
  },
  {
   "cell_type": "code",
   "execution_count": 9,
   "metadata": {
    "collapsed": false
   },
   "outputs": [
    {
     "name": "stdout",
     "output_type": "stream",
     "text": [
      "Epoch: 1000 cost = 0.003676\n"
     ]
    }
   ],
   "source": [
    "# Model\n",
    "class Seq2Seq(nn.Module):\n",
    "    def __init__(self):\n",
    "        super(Seq2Seq, self).__init__()\n",
    "\n",
    "        self.enc_cell = nn.RNN(input_size=n_class, hidden_size=n_hidden, dropout=0.5)   #(v,h)\n",
    "        self.dec_cell = nn.RNN(input_size=n_class, hidden_size=n_hidden, dropout=0.5)   #(v,h)\n",
    "        self.fc = nn.Linear(n_hidden, n_class)  #(h,v) \n",
    "\n",
    "    def forward(self, enc_input, enc_hidden, dec_input):\n",
    "        enc_input = enc_input.transpose(0, 1) # enc_input: (m,b,v) \n",
    "        dec_input = dec_input.transpose(0, 1) # dec_input: (m+1,b,v) \n",
    "        \n",
    "        # enc_states : [num_layers(=1) * num_directions(=1), b, h] = (1,b,h)\n",
    "        _, enc_states = self.enc_cell(enc_input, enc_hidden)        #      self.enc_cell( (m,b,v) ,(1,b,h) )\n",
    "        \n",
    "        \n",
    "        # outputs : [m+1(=6), b, num_directions(=1) * n_hidden(=128)] = (m+1,b,h)\n",
    "        outputs, _ = self.dec_cell(dec_input, enc_states)          #  self.dec_cell( (m+1,b,v)  , (1,b,h))\n",
    "\n",
    "        model = self.fc(outputs) #  (v,h) * (m+1,b,h) = (v,m+1,b) \n",
    "        return model\n",
    "\n",
    "\n",
    "\n",
    "\n",
    "model = Seq2Seq()\n",
    "criterion = nn.CrossEntropyLoss()\n",
    "optimizer = torch.optim.Adam(model.parameters(), lr=0.001)\n",
    "\n",
    "for epoch in range(1000):\n",
    "    # make hidden shape [num_layers * num_directions, batch_size, n_hidden]\n",
    "    hidden = Variable(torch.zeros(1, batch_size, n_hidden))       #(1,b,h)\n",
    "\n",
    "    optimizer.zero_grad()\n",
    "    # input_batch :  (b,m,v)\n",
    "    # output_batch :  (b,m+1,v)\n",
    "    # target_batch :   (b,m+1)\n",
    "    output = model(input_batch, hidden, output_batch)    # model(  (b,m,v),    (1,b,h), (b,m+1,v)  )\n",
    "    # output : (m+1,b,v) \n",
    "    output = output.transpose(0, 1) # [b, m+1, v]\n",
    "    loss = 0        \n",
    "    for i in range(0, len(target_batch)):     #len(target_batch) = b =6\n",
    "        # output[i] : [max_len+1, n_class, target_batch[i] : max_len+1]\n",
    "        loss += criterion(output[i], target_batch[i])\n",
    "    if (epoch + 1) % 1000 == 0:\n",
    "        print('Epoch:', '%04d' % (epoch + 1), 'cost =', '{:.6f}'.format(loss))\n",
    "    loss.backward()\n",
    "    optimizer.step()"
   ]
  },
  {
   "cell_type": "code",
   "execution_count": 19,
   "metadata": {},
   "outputs": [
    {
     "name": "stdout",
     "output_type": "stream",
     "text": [
      "test\n[['man', 'PPP']]       0 manPP  1 SPPPPP  2 PPPPPE            ['w', 'o', 'm', 'e', 'n', 'E']\nman -> women\n[['mans', 'PPPP']]       0 mansP  1 SPPPPP  2 PPPPPE            ['w', 'o', 'm', 'e', 'n', 'E']\nmans -> women\n[['king', 'PPPP']]       0 kingP  1 SPPPPP  2 PPPPPE            ['q', 'u', 'e', 'e', 'n', 'E']\nking -> queen\n[['black', 'PPPPP']]       0 black  1 SPPPPP  2 PPPPPE            ['w', 'h', 'i', 't', 'e', 'E']\nblack -> white\n[['upp', 'PPP']]       0 uppPP  1 SPPPPP  2 PPPPPE            ['d', 'o', 'w', 'n', 'P', 'E']\nupp -> down\n"
     ]
    }
   ],
   "source": [
    "# Test\n",
    "def translate(word):\n",
    "    print([[word, 'P' * len(word)]],end=\"       \")\n",
    "    input_batch, output_batch, _ = make_batch([[word, 'P' * len(word)]])\n",
    "\n",
    "    # make hidden shape [num_layers * num_directions, batch_size, n_hidden]\n",
    "    hidden = Variable(torch.zeros(1, 1, n_hidden))\n",
    "    output = model(input_batch, hidden, output_batch)\n",
    "    # output : [m+1(=6), b(=1), v]\n",
    "\n",
    "    predict = output.data.max(2, keepdim=True)[1] # select n_class dimension\n",
    "    \n",
    "    decoded = [char_arr[i] for i in predict]\n",
    "    print(decoded)\n",
    "    end = decoded.index('E')\n",
    "    translated = ''.join(decoded[:end])\n",
    "\n",
    "    return translated.replace('P', '')\n",
    "\n",
    "print('test')\n",
    "print('man ->', translate('man'))\n",
    "print('mans ->', translate('mans'))\n",
    "print('king ->', translate('king'))\n",
    "print('black ->', translate('black'))\n",
    "print('upp ->', translate('upp'))"
   ]
  },
  {
   "cell_type": "code",
   "execution_count": null,
   "metadata": {},
   "outputs": [],
   "source": []
  }
 ],
 "metadata": {
  "kernelspec": {
   "display_name": "Python 2",
   "language": "python",
   "name": "python2"
  },
  "language_info": {
   "codemirror_mode": {
    "name": "ipython",
    "version": 2
   },
   "file_extension": ".py",
   "mimetype": "text/x-python",
   "name": "python",
   "nbconvert_exporter": "python",
   "pygments_lexer": "ipython2",
   "version": "2.7.6"
  }
 },
 "nbformat": 4,
 "nbformat_minor": 0
}
