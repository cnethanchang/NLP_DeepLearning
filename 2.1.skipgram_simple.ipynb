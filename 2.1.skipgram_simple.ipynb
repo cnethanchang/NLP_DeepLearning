{
 "cells": [
  {
   "cell_type": "code",
   "execution_count": 7,
   "metadata": {
    "collapsed": false
   },
   "outputs": [
    {
     "name": "stdout",
     "output_type": "stream",
     "text": [
      "word_sequence= ['i', 'like', 'dog', 'i', 'like', 'cat', 'i', 'like', 'animal', 'dog', 'cat', 'animal', 'apple', 'cat', 'dog', 'like', 'dog', 'fish', 'milk', 'like', 'dog', 'cat', 'eyes', 'like', 'i', 'like', 'apple', 'apple', 'i', 'hate', 'apple', 'i', 'movie', 'book', 'music', 'like', 'cat', 'dog', 'hate', 'cat', 'dog', 'like']\n word_list= ['movie', 'dog', 'hate', 'i', 'animal', 'eyes', 'cat', 'music', 'fish', 'book', 'milk', 'like', 'apple']\n word_dict= {'movie': 0, 'dog': 1, 'hate': 2, 'i': 3, 'animal': 4, 'eyes': 5, 'cat': 6, 'music': 7, 'fish': 8, 'book': 9, 'milk': 10, 'like': 11, 'apple': 12}\n13\n"
     ]
    }
   ],
   "source": [
    "import numpy as np\n",
    "import torch\n",
    "import torch.nn as nn\n",
    "import torch.optim as optim\n",
    "from torch.autograd import Variable\n",
    "import matplotlib.pyplot as plt\n",
    "\n",
    "dtype = torch.FloatTensor\n",
    "\n",
    "# 3 Words Sentence\n",
    "sentences = [ \"i like dog\", \"i like cat\", \"i like animal\",\n",
    "              \"dog cat animal\", \"apple cat dog like\", \"dog fish milk like\",\n",
    "              \"dog cat eyes like\", \"i like apple\", \"apple i hate\",\n",
    "              \"apple i movie book music like\", \"cat dog hate\", \"cat dog like\"]\n",
    "\n",
    "word_sequence = \" \".join(sentences).split()\n",
    "word_list = \" \".join(sentences).split()\n",
    "word_list = list(set(word_list))\n",
    "word_dict = {w: i for i, w in enumerate(word_list)}\n",
    "\n",
    "print('word_sequence=',word_sequence)\n",
    "print(' word_list=',word_list)\n",
    "print(' word_dict=',word_dict)\n",
    "print(len(word_list))"
   ]
  },
  {
   "cell_type": "code",
   "execution_count": 15,
   "metadata": {},
   "outputs": [
    {
     "name": "stdout",
     "output_type": "stream",
     "text": [
      "word_sequence= ['i', 'like', 'dog', 'i', 'like', 'cat', 'i', 'like', 'animal', 'dog', 'cat', 'animal', 'apple', 'cat', 'dog', 'like', 'dog', 'fish', 'milk', 'like', 'dog', 'cat', 'eyes', 'like', 'i', 'like', 'apple', 'apple', 'i', 'hate', 'apple', 'i', 'movie', 'book', 'music', 'like', 'cat', 'dog', 'hate', 'cat', 'dog', 'like']\nskip_grams= [[11, 3], [11, 1], [1, 11], [1, 3], [3, 1], [3, 11], [11, 3], [11, 6], [6, 11], [6, 3], [3, 6], [3, 11], [11, 3], [11, 4], [4, 11], [4, 1], [1, 4], [1, 6], [6, 1], [6, 4], [4, 6], [4, 12], [12, 4], [12, 6], [6, 12], [6, 1], [1, 6], [1, 11], [11, 1], [11, 1], [1, 11], [1, 8], [8, 1], [8, 10], [10, 8], [10, 11], [11, 10], [11, 1], [1, 11], [1, 6], [6, 1], [6, 5], [5, 6], [5, 11], [11, 5], [11, 3], [3, 11], [3, 11], [11, 3], [11, 12], [12, 11], [12, 12], [12, 12], [12, 3], [3, 12], [3, 2], [2, 3], [2, 12], [12, 2], [12, 3], [3, 12], [3, 0], [0, 3], [0, 9], [9, 0], [9, 7], [7, 9], [7, 11], [11, 7], [11, 6], [6, 11], [6, 1], [1, 6], [1, 2], [2, 1], [2, 6], [6, 2], [6, 1], [1, 6], [1, 11]]\n"
     ]
    }
   ],
   "source": [
    "\n",
    "def random_batch(data, size):\n",
    "    random_inputs = []\n",
    "    random_labels = []\n",
    "    random_index = np.random.choice(range(len(data)), size, replace=False)\n",
    "\n",
    "    for i in random_index:\n",
    "        random_inputs.append(np.eye(voc_size)[data[i][0]])  # target\n",
    "        random_labels.append(data[i][1])  # context word\n",
    "        print(data[i])\n",
    "\n",
    "    return random_inputs, random_labels\n",
    "    \n",
    "    \n",
    "    \n",
    "    \n",
    "# Word2Vec Parameter\n",
    "batch_size = 20  # To show 2 dim embedding graph\n",
    "embedding_size = 2  # To show 2 dim embedding graph\n",
    "voc_size = len(word_list)       #13\n",
    "\n",
    "\n",
    "\n",
    "# Make skip gram of one size window\n",
    "skip_grams = []\n",
    "print('word_sequence=',word_sequence)\n",
    "#['i', 'like', 'dog', 'i', 'like', 'cat', 'i', 'like', 'animal', 'dog', 'cat', 'animal', 'apple', 'cat', 'dog', 'like', 'dog', 'fish', 'milk', 'like', 'dog', 'cat', 'eyes', 'like', 'i', 'like', 'apple', 'apple', 'i', 'hate', 'apple', 'i', 'movie', 'book', 'music', 'like', 'cat', 'dog', 'hate', 'cat', 'dog', 'like']\n",
    "for i in range(1, len(word_sequence) - 1):\n",
    "    target = word_dict[word_sequence[i]]\n",
    "    context = [word_dict[word_sequence[i - 1]], word_dict[word_sequence[i + 1]]]\n",
    "    #context为target的前后单词\n",
    "\n",
    "    for w in context:\n",
    "        skip_grams.append([target, w])\n",
    "\n",
    "print('skip_grams=',skip_grams)\n",
    "\n"
   ]
  },
  {
   "cell_type": "code",
   "execution_count": 17,
   "metadata": {},
   "outputs": [
    {
     "name": "stdout",
     "output_type": "stream",
     "text": [
      "Epoch: 1000 cost = 2.484912\n"
     ]
    },
    {
     "name": "stdout",
     "output_type": "stream",
     "text": [
      "Epoch: 2000 cost = 1.837060\n"
     ]
    },
    {
     "name": "stdout",
     "output_type": "stream",
     "text": [
      "Epoch: 3000 cost = 1.788415\n"
     ]
    },
    {
     "name": "stdout",
     "output_type": "stream",
     "text": [
      "Epoch: 4000 cost = 1.930390\n"
     ]
    },
    {
     "name": "stdout",
     "output_type": "stream",
     "text": [
      "Epoch: 5000 cost = 1.831344\n"
     ]
    }
   ],
   "source": [
    "\n",
    "# Model\n",
    "class Word2Vec(nn.Module):\n",
    "    def __init__(self):\n",
    "        super(Word2Vec, self).__init__()\n",
    "\n",
    "        # W and WT is not Traspose relationship\n",
    "        self.W = nn.Parameter(-2 * torch.rand(voc_size, embedding_size) + 1).type(dtype) # voc_size > embedding_size Weight\n",
    "        self.WT = nn.Parameter(-2 * torch.rand(embedding_size, voc_size) + 1).type(dtype) # embedding_size > voc_size Weight\n",
    "\n",
    "    def forward(self, X):\n",
    "        # print(X.size())              \n",
    "        # X : [batch_size, voc_size]=(20,13)\n",
    "        hidden_layer = torch.matmul(X, self.W) # hidden_layer =(d,v)*(v,b)=(d,b)= [batch_size, embedding_size]\n",
    "        output_layer = torch.matmul(hidden_layer, self.WT) \n",
    "        # output_layer =(b,d)*(d,v)=(d,v)= [batch_size, voc_size]     输出为（d，v） 与y进行softmax\n",
    "        return output_layer\n",
    "\n",
    "model = Word2Vec()\n",
    "\n",
    "criterion = nn.CrossEntropyLoss()\n",
    "optimizer = optim.Adam(model.parameters(), lr=0.001)\n",
    "\n",
    "# Training\n",
    "for epoch in range(5000):\n",
    "\n",
    "    input_batch, target_batch = random_batch(skip_grams, batch_size)\n",
    "\n",
    "    input_batch = Variable(torch.Tensor(input_batch))         # input    ==>[batch_size, voc_size]=(20,13)\n",
    "    target_batch = Variable(torch.LongTensor(target_batch))     #target_batch : [batch_size] (LongTensor, not one-hot)\n",
    "\n",
    "    optimizer.zero_grad()\n",
    "    output = model(input_batch) #(b,v)\n",
    "\n",
    "    # output : [batch_size, voc_size],      target_batch : [batch_size] (LongTensor, not one-hot)\n",
    "    loss = criterion(output, target_batch)\n",
    "    if (epoch + 1)%1000 == 0:\n",
    "        print('Epoch:', '%04d' % (epoch + 1), 'cost =', '{:.6f}'.format(loss))\n",
    "\n",
    "    loss.backward()\n",
    "    optimizer.step()\n",
    "    \n"
   ]
  },
  {
   "cell_type": "code",
   "execution_count": 20,
   "metadata": {},
   "outputs": [
    {
     "data": {
      "image/png": "[encoded data removed]",
      "text/plain": [
       "<Figure size 432x288 with 1 Axes>"
      ]
     },
     "metadata": {},
     "output_type": "display_data"
    }
   ],
   "source": [
    "for i, label in enumerate(word_list):\n",
    "    W, WT = model.parameters()\n",
    "    x,y = float(W[i][0]), float(W[i][1])\n",
    "    plt.scatter(x, y)\n",
    "    plt.annotate(label, xy=(x, y), xytext=(5, 2), textcoords='offset points', ha='right', va='bottom')\n",
    "plt.show()"
   ]
  },
  {
   "cell_type": "code",
   "execution_count": null,
   "metadata": {},
   "outputs": [],
   "source": []
  }
 ],
 "metadata": {
  "kernelspec": {
   "display_name": "Python 2",
   "language": "python",
   "name": "python2"
  },
  "language_info": {
   "codemirror_mode": {
    "name": "ipython",
    "version": 2
   },
   "file_extension": ".py",
   "mimetype": "text/x-python",
   "name": "python",
   "nbconvert_exporter": "python",
   "pygments_lexer": "ipython2",
   "version": "2.7.6"
  }
 },
 "nbformat": 4,
 "nbformat_minor": 0
}
